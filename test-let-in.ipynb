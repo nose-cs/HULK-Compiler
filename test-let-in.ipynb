{
 "cells": [
  {
   "cell_type": "code",
   "execution_count": 21,
   "metadata": {},
   "outputs": [],
   "source": [
    "from src.lexer.hulk_lexer import HulkLexer\n",
    "\n",
    "lexer = HulkLexer()"
   ]
  },
  {
   "cell_type": "code",
   "execution_count": 22,
   "metadata": {},
   "outputs": [],
   "source": [
    "from src.hulk_grammar.hulk_grammar import G\n",
    "from src.parsing import LR1Parser\n",
    "\n",
    "parser = LR1Parser(G)"
   ]
  },
  {
   "cell_type": "code",
   "execution_count": 43,
   "metadata": {},
   "outputs": [
    {
     "data": {
      "text/plain": [
       "[let: let (2, 4),\n",
       " <id>: a (2, 8),\n",
       " =: = (2, 10),\n",
       " <number>: 42 (2, 12),\n",
       " in: in (2, 15),\n",
       " if: if (2, 18),\n",
       " (: ( (2, 21),\n",
       " <id>: a (2, 22),\n",
       " %: % (2, 24),\n",
       " <number>: 2 (2, 26),\n",
       " ==: == (2, 28),\n",
       " <number>: 0 (2, 31),\n",
       " ): ) (2, 32),\n",
       " <id>: print (2, 34),\n",
       " (: ( (2, 39),\n",
       " <string>: \"Even\" (2, 40),\n",
       " ): ) (2, 46),\n",
       " else: else (2, 48),\n",
       " <id>: print (2, 53),\n",
       " (: ( (2, 58),\n",
       " <string>: \"odd\" (2, 59),\n",
       " ): ) (2, 64),\n",
       " ;: ; (2, 65),\n",
       " $: $ (4, 0)]"
      ]
     },
     "execution_count": 43,
     "metadata": {},
     "output_type": "execute_result"
    }
   ],
   "source": [
    "tokens, errors = lexer('''\n",
    "   let a = 42 in if (a % 2 == 0) print(\"Even\") else print(\"odd\");\n",
    "    ''')\n",
    "\n",
    "tokens"
   ]
  },
  {
   "cell_type": "code",
   "execution_count": 44,
   "metadata": {},
   "outputs": [],
   "source": [
    "derivation, operations = parser([t.token_type for t in tokens])"
   ]
  },
  {
   "cell_type": "code",
   "execution_count": 48,
   "metadata": {},
   "outputs": [
    {
     "ename": "IndexError",
     "evalue": "tuple index out of range",
     "output_type": "error",
     "traceback": [
      "\u001b[1;31m---------------------------------------------------------------------------\u001b[0m",
      "\u001b[1;31mIndexError\u001b[0m                                Traceback (most recent call last)",
      "Cell \u001b[1;32mIn[48], line 7\u001b[0m\n\u001b[0;32m      4\u001b[0m ast \u001b[38;5;241m=\u001b[39m evaluate_reverse_parse(derivation, operations, tokens)\n\u001b[0;32m      5\u001b[0m formatter \u001b[38;5;241m=\u001b[39m FormatterVisitor\n\u001b[1;32m----> 7\u001b[0m \u001b[38;5;28mprint\u001b[39m(\u001b[43mformatter\u001b[49m\u001b[38;5;241;43m.\u001b[39;49m\u001b[43mvisit\u001b[49m\u001b[43m(\u001b[49m\u001b[43mast\u001b[49m\u001b[43m)\u001b[49m)\n",
      "File \u001b[1;32mc:\\Compilacion\\HULK-Compiler\\src\\visitor.py:46\u001b[0m, in \u001b[0;36mwhen.<locals>.f.<locals>.ff\u001b[1;34m(*args, **kw)\u001b[0m\n\u001b[0;32m     45\u001b[0m \u001b[38;5;28;01mdef\u001b[39;00m \u001b[38;5;21mff\u001b[39m(\u001b[38;5;241m*\u001b[39margs, \u001b[38;5;241m*\u001b[39m\u001b[38;5;241m*\u001b[39mkw):\n\u001b[1;32m---> 46\u001b[0m     \u001b[38;5;28;01mreturn\u001b[39;00m \u001b[43mdispatcher\u001b[49m\u001b[43m(\u001b[49m\u001b[38;5;241;43m*\u001b[39;49m\u001b[43margs\u001b[49m\u001b[43m,\u001b[49m\u001b[43m \u001b[49m\u001b[38;5;241;43m*\u001b[39;49m\u001b[38;5;241;43m*\u001b[39;49m\u001b[43mkw\u001b[49m\u001b[43m)\u001b[49m\n",
      "File \u001b[1;32mc:\\Compilacion\\HULK-Compiler\\src\\visitor.py:63\u001b[0m, in \u001b[0;36mDispatcher.__call__\u001b[1;34m(self, *args, **kw)\u001b[0m\n\u001b[0;32m     62\u001b[0m \u001b[38;5;28;01mdef\u001b[39;00m \u001b[38;5;21m__call__\u001b[39m(\u001b[38;5;28mself\u001b[39m, \u001b[38;5;241m*\u001b[39margs, \u001b[38;5;241m*\u001b[39m\u001b[38;5;241m*\u001b[39mkw):\n\u001b[1;32m---> 63\u001b[0m     typ \u001b[38;5;241m=\u001b[39m \u001b[43margs\u001b[49m\u001b[43m[\u001b[49m\u001b[38;5;28;43mself\u001b[39;49m\u001b[38;5;241;43m.\u001b[39;49m\u001b[43mparam_index\u001b[49m\u001b[43m]\u001b[49m\u001b[38;5;241m.\u001b[39m\u001b[38;5;18m__class__\u001b[39m\n\u001b[0;32m     64\u001b[0m     d \u001b[38;5;241m=\u001b[39m \u001b[38;5;28mself\u001b[39m\u001b[38;5;241m.\u001b[39mtargets\u001b[38;5;241m.\u001b[39mget(typ)\n\u001b[0;32m     65\u001b[0m     \u001b[38;5;28;01mif\u001b[39;00m d \u001b[38;5;129;01mis\u001b[39;00m \u001b[38;5;129;01mnot\u001b[39;00m \u001b[38;5;28;01mNone\u001b[39;00m:\n",
      "\u001b[1;31mIndexError\u001b[0m: tuple index out of range"
     ]
    }
   ],
   "source": [
    "from src.evaluation import evaluate_reverse_parse\n",
    "from src.semantics.formatter_visitor import FormatterVisitor\n",
    "\n",
    "ast = evaluate_reverse_parse(derivation, operations, tokens)\n",
    "formatter = FormatterVisitor\n",
    "\n",
    "print(formatter.visit(ast))"
   ]
  }
 ],
 "metadata": {
  "kernelspec": {
   "display_name": "Python 3",
   "language": "python",
   "name": "python3"
  },
  "language_info": {
   "codemirror_mode": {
    "name": "ipython",
    "version": 3
   },
   "file_extension": ".py",
   "mimetype": "text/x-python",
   "name": "python",
   "nbconvert_exporter": "python",
   "pygments_lexer": "ipython3",
   "version": "3.12.0"
  }
 },
 "nbformat": 4,
 "nbformat_minor": 2
}
