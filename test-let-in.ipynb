{
 "cells": [
  {
   "cell_type": "code",
   "execution_count": 1,
   "metadata": {},
   "outputs": [],
   "source": [
    "from src.lexer.hulk_lexer import HulkLexer\n",
    "\n",
    "lexer = HulkLexer()"
   ]
  },
  {
   "cell_type": "code",
   "execution_count": 2,
   "metadata": {},
   "outputs": [],
   "source": [
    "from src.hulk_grammar.hulk_grammar import G\n",
    "from src.parsing import LR1Parser\n",
    "\n",
    "parser = LR1Parser(G)"
   ]
  },
  {
   "cell_type": "code",
   "execution_count": 5,
   "metadata": {},
   "outputs": [
    {
     "data": {
      "text/plain": [
       "[let: let (1, 1),\n",
       " <id>: x (1, 5),\n",
       " :: : (1, 6),\n",
       " <id>: Number (1, 8),\n",
       " =: = (1, 15),\n",
       " <number>: 42 (1, 17),\n",
       " ,: , (1, 19),\n",
       " <id>: v (1, 21),\n",
       " =: = (1, 23),\n",
       " <bool>: true (1, 25),\n",
       " ,: , (1, 29),\n",
       " <id>: sl (1, 31),\n",
       " =: = (1, 34),\n",
       " <string>: \"hola\" (1, 36),\n",
       " in: in (1, 43),\n",
       " <id>: print (1, 46),\n",
       " (: ( (1, 51),\n",
       " <id>: x (1, 52),\n",
       " ): ) (1, 53),\n",
       " ;: ; (1, 54),\n",
       " $: $ (2, 0)]"
      ]
     },
     "execution_count": 5,
     "metadata": {},
     "output_type": "execute_result"
    }
   ],
   "source": [
    "tokens, errors = lexer(\"let x: Number = 42, v = true, sl = \\\"hola\\\" in print(x);\")\n",
    "\n",
    "tokens"
   ]
  },
  {
   "cell_type": "code",
   "execution_count": 6,
   "metadata": {},
   "outputs": [],
   "source": [
    "derivation, operations = parser([t.token_type for t in tokens])"
   ]
  },
  {
   "cell_type": "code",
   "execution_count": 7,
   "metadata": {},
   "outputs": [
    {
     "name": "stdout",
     "output_type": "stream",
     "text": [
      "\\__ ProgramNode [<stat>; ... <stat> <expr>;]\n",
      "\n",
      "\t\\__ LetInNode: let [<var>, ..., <var>] in <expr>\n",
      "\t\t\\__ VarDeclarationNode: x = <expr>\n",
      "\t\t\t\\__ ConstantNumNode: 42\n",
      "\t\t\\__ VarDeclarationNode: v = <expr>\n",
      "\t\t\t\\__ ConstantBoolNode: true\n",
      "\t\t\\__ VarDeclarationNode: sl = <expr>\n",
      "\t\t\t\\__ ConstantStringNode: \"hola\"\n",
      "\t\t\\__ CallNode: print(<expr>, ..., <expr>)\n",
      "\t\t\t\\__ VariableNode: x\n"
     ]
    }
   ],
   "source": [
    "from src.evaluation import evaluate_reverse_parse\n",
    "from src.semantics.format_visitor import FormatVisitor\n",
    "\n",
    "ast = evaluate_reverse_parse(derivation, operations, tokens)\n",
    "formatter = FormatVisitor()\n",
    "\n",
    "print(formatter.visit(ast))"
   ]
  }
 ],
 "metadata": {
  "kernelspec": {
   "display_name": "Python 3",
   "language": "python",
   "name": "python3"
  },
  "language_info": {
   "codemirror_mode": {
    "name": "ipython",
    "version": 3
   },
   "file_extension": ".py",
   "mimetype": "text/x-python",
   "name": "python",
   "nbconvert_exporter": "python",
   "pygments_lexer": "ipython3",
   "version": "3.12.0"
  }
 },
 "nbformat": 4,
 "nbformat_minor": 2
}
