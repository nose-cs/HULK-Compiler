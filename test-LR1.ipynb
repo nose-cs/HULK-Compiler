{
 "cells": [
  {
   "cell_type": "code",
   "execution_count": 1,
   "metadata": {
    "is_executing": true
   },
   "outputs": [],
   "source": [
    "from src.pycompiler import Grammar\n",
    "from src.parsing import LR1Parser"
   ]
  },
  {
   "cell_type": "code",
   "execution_count": 2,
   "metadata": {},
   "outputs": [
    {
     "name": "stdout",
     "output_type": "stream",
     "text": [
      "Non-Terminals:\n",
      "\tE, A\n",
      "Terminals:\n",
      "\t=, +, int\n",
      "Productions:\n",
      "\t[E -> A = A, E -> int, A -> int + A, A -> int]\n"
     ]
    }
   ],
   "source": [
    "G = Grammar()\n",
    "E = G.NonTerminal('E', True)\n",
    "A = G.NonTerminal('A')\n",
    "equal, plus, num = G.Terminals('= + int')\n",
    "\n",
    "E %=  A + equal + A | num\n",
    "A %= num + plus + A | num\n",
    "\n",
    "print(G)"
   ]
  },
  {
   "cell_type": "code",
   "execution_count": 3,
   "metadata": {},
   "outputs": [],
   "source": [
    "parser = LR1Parser(G, verbose=True)"
   ]
  },
  {
   "cell_type": "code",
   "execution_count": 4,
   "metadata": {},
   "outputs": [
    {
     "name": "stdout",
     "output_type": "stream",
     "text": [
      "[0] <---||---> ['int', '+', 'int', '=', 'int', '+', 'int', '$']\n",
      "[0, 1] <---||---> ['+', 'int', '=', 'int', '+', 'int', '$']\n",
      "[0, 1, 9] <---||---> ['int', '=', 'int', '+', 'int', '$']\n",
      "[0, 1, 9, 10] <---||---> ['=', 'int', '+', 'int', '$']\n",
      "[0, 1, 9, 11] <---||---> ['=', 'int', '+', 'int', '$']\n",
      "[0, 3] <---||---> ['=', 'int', '+', 'int', '$']\n",
      "[0, 3, 4] <---||---> ['int', '+', 'int', '$']\n",
      "[0, 3, 4, 5] <---||---> ['+', 'int', '$']\n",
      "[0, 3, 4, 5, 7] <---||---> ['int', '$']\n",
      "[0, 3, 4, 5, 7, 5] <---||---> ['$']\n",
      "[0, 3, 4, 5, 7, 8] <---||---> ['$']\n",
      "[0, 3, 4, 6] <---||---> ['$']\n",
      "[0, 2] <---||---> ['$']\n"
     ]
    },
    {
     "data": {
      "text/plain": [
       "[A -> int, A -> int + A, A -> int, A -> int + A, E -> A = A]"
      ]
     },
     "execution_count": 4,
     "metadata": {},
     "output_type": "execute_result"
    }
   ],
   "source": [
    "derivation, operations = parser([num, plus, num, equal, num, plus, num, G.EOF])\n",
    "\n",
    "assert str(derivation) == '[A -> int, A -> int + A, A -> int, A -> int + A, E -> A = A]'\n",
    "\n",
    "derivation"
   ]
  },
  {
   "cell_type": "code",
   "execution_count": 5,
   "metadata": {},
   "outputs": [],
   "source": [
    "from src.Hulk_Grammar.hulk_grammar import G\n",
    "from src.parsing import LR1Parser"
   ]
  },
  {
   "cell_type": "code",
   "execution_count": 6,
   "metadata": {},
   "outputs": [],
   "source": [
    "parser = LR1Parser(G, verbose=True)"
   ]
  },
  {
   "cell_type": "code",
   "execution_count": 7,
   "metadata": {},
   "outputs": [
    {
     "name": "stdout",
     "output_type": "stream",
     "text": [
      "[0] <---||---> ['<number>', '+', '<number>', '==', '<number>', '+', '<number>', '$']\n",
      "[0, 9] <---||---> ['+', '<number>', '==', '<number>', '+', '<number>', '$']\n",
      "[0, 22] <---||---> ['+', '<number>', '==', '<number>', '+', '<number>', '$']\n",
      "[0, 20] <---||---> ['+', '<number>', '==', '<number>', '+', '<number>', '$']\n",
      "[0, 19] <---||---> ['+', '<number>', '==', '<number>', '+', '<number>', '$']\n",
      "[0, 21] <---||---> ['+', '<number>', '==', '<number>', '+', '<number>', '$']\n",
      "[0, 18] <---||---> ['+', '<number>', '==', '<number>', '+', '<number>', '$']\n",
      "[0, 17] <---||---> ['+', '<number>', '==', '<number>', '+', '<number>', '$']\n",
      "[0, 17, 1182] <---||---> ['<number>', '==', '<number>', '+', '<number>', '$']\n",
      "[0, 17, 1182, 9] <---||---> ['==', '<number>', '+', '<number>', '$']\n",
      "[0, 17, 1182, 22] <---||---> ['==', '<number>', '+', '<number>', '$']\n",
      "[0, 17, 1182, 20] <---||---> ['==', '<number>', '+', '<number>', '$']\n",
      "[0, 17, 1182, 19] <---||---> ['==', '<number>', '+', '<number>', '$']\n",
      "[0, 17, 1182, 21] <---||---> ['==', '<number>', '+', '<number>', '$']\n",
      "[0, 17, 1182, 1227] <---||---> ['==', '<number>', '+', '<number>', '$']\n",
      "[0, 17] <---||---> ['==', '<number>', '+', '<number>', '$']\n",
      "[0, 29] <---||---> ['==', '<number>', '+', '<number>', '$']\n",
      "[0, 29, 34] <---||---> ['<number>', '+', '<number>', '$']\n",
      "[0, 29, 34, 40] <---||---> ['+', '<number>', '$']\n",
      "[0, 29, 34, 49] <---||---> ['+', '<number>', '$']\n",
      "[0, 29, 34, 47] <---||---> ['+', '<number>', '$']\n",
      "[0, 29, 34, 46] <---||---> ['+', '<number>', '$']\n",
      "[0, 29, 34, 48] <---||---> ['+', '<number>', '$']\n",
      "[0, 29, 34, 45] <---||---> ['+', '<number>', '$']\n",
      "[0, 29, 34, 44] <---||---> ['+', '<number>', '$']\n",
      "[0, 29, 34, 44, 61] <---||---> ['<number>', '$']\n",
      "[0, 29, 34, 44, 61, 40] <---||---> ['$']\n",
      "[0, 29, 34, 44, 61, 49] <---||---> ['$']\n",
      "[0, 29, 34, 44, 61, 47] <---||---> ['$']\n",
      "[0, 29, 34, 44, 61, 46] <---||---> ['$']\n",
      "[0, 29, 34, 44, 61, 48] <---||---> ['$']\n",
      "[0, 29, 34, 44, 61, 1151] <---||---> ['$']\n",
      "[0, 29, 34, 44] <---||---> ['$']\n",
      "[0, 29, 34, 1159] <---||---> ['$']\n",
      "[0, 30] <---||---> ['$']\n",
      "[0, 25] <---||---> ['$']\n",
      "[0, 24] <---||---> ['$']\n",
      "[0, 23] <---||---> ['$']\n",
      "[0, 26] <---||---> ['$']\n",
      "[0, 15] <---||---> ['$']\n",
      "[0, 13] <---||---> ['$']\n"
     ]
    }
   ],
   "source": [
    "import src.Hulk_Grammar.hulk_grammar as hulk\n",
    "from src.utils import Token\n",
    "from src.regex.evaluation import evaluate_reverse_parse\n",
    "\n",
    "tokens = [Token('1', hulk.number), Token('+', hulk.plus), Token('2', hulk.number), Token('==', hulk.eq), Token('3', hulk.number), Token('+',hulk.plus), Token('4', hulk.number), Token('$', G.EOF)]\n",
    "\n",
    "derivation, operations = parser([t.token_type for t in tokens])"
   ]
  },
  {
   "cell_type": "code",
   "execution_count": 8,
   "metadata": {},
   "outputs": [
    {
     "name": "stdout",
     "output_type": "stream",
     "text": [
      "\\__ProgramNode [<stat>; ... <stat>;]\n",
      "\t\\__EqualNode: <expr> == <expr>\n",
      "\t\t\\__PlusNode: <expr> + <expr>\n",
      "\t\t\t\\__ ConstantNumNode: 1\n",
      "\t\t\t\\__ ConstantNumNode: 2\n",
      "\t\t\\__PlusNode: <expr> + <expr>\n",
      "\t\t\t\\__ ConstantNumNode: 3\n",
      "\t\t\t\\__ ConstantNumNode: 4\n",
      "<src.Hulk_Grammar.hulk_ast_nodes.EqualNode object at 0x00000173ECAE4BE0>\n"
     ]
    }
   ],
   "source": [
    "from src.semantics.format_visitor import FormatVisitor\n",
    "\n",
    "ast = evaluate_reverse_parse(derivation, operations, tokens)\n",
    "formatter = FormatVisitor()\n",
    "print(formatter.visit(ast))\n",
    "\n",
    "print(ast.expression)"
   ]
  }
 ],
 "metadata": {
  "kernelspec": {
   "display_name": "Python 3",
   "language": "python",
   "name": "python3"
  },
  "language_info": {
   "codemirror_mode": {
    "name": "ipython",
    "version": 3
   },
   "file_extension": ".py",
   "mimetype": "text/x-python",
   "name": "python",
   "nbconvert_exporter": "python",
   "pygments_lexer": "ipython3",
   "version": "3.10.11"
  }
 },
 "nbformat": 4,
 "nbformat_minor": 2
}
