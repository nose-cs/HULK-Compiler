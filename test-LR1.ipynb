{
 "cells": [
  {
   "cell_type": "code",
   "execution_count": null,
   "metadata": {
    "is_executing": true
   },
   "outputs": [],
   "source": [
    "from src.pycompiler import Grammar\n",
    "from src.parsing import LR1Parser"
   ]
  },
  {
   "cell_type": "code",
   "execution_count": 2,
   "metadata": {},
   "outputs": [
    {
     "name": "stdout",
     "output_type": "stream",
     "text": [
      "Non-Terminals:\n",
      "\tE, A\n",
      "Terminals:\n",
      "\t=, +, int\n",
      "Productions:\n",
      "\t[E -> A = A, E -> int, A -> int + A, A -> int]\n"
     ]
    }
   ],
   "source": [
    "G = Grammar()\n",
    "E = G.NonTerminal('E', True)\n",
    "A = G.NonTerminal('A')\n",
    "equal, plus, num = G.Terminals('= + int')\n",
    "\n",
    "E %=  A + equal + A | num\n",
    "A %= num + plus + A | num\n",
    "\n",
    "print(G)"
   ]
  },
  {
   "cell_type": "code",
   "execution_count": 3,
   "metadata": {},
   "outputs": [],
   "source": [
    "parser = LR1Parser(G, verbose=True)"
   ]
  },
  {
   "cell_type": "code",
   "execution_count": 4,
   "metadata": {},
   "outputs": [
    {
     "name": "stdout",
     "output_type": "stream",
     "text": [
      "[0] <---||---> ['int', '+', 'int', '=', 'int', '+', 'int', '$']\n",
      "[0, 1] <---||---> ['+', 'int', '=', 'int', '+', 'int', '$']\n",
      "[0, 1, 9] <---||---> ['int', '=', 'int', '+', 'int', '$']\n",
      "[0, 1, 9, 10] <---||---> ['=', 'int', '+', 'int', '$']\n",
      "[0, 1, 9, 11] <---||---> ['=', 'int', '+', 'int', '$']\n",
      "[0, 3] <---||---> ['=', 'int', '+', 'int', '$']\n",
      "[0, 3, 4] <---||---> ['int', '+', 'int', '$']\n",
      "[0, 3, 4, 5] <---||---> ['+', 'int', '$']\n",
      "[0, 3, 4, 5, 7] <---||---> ['int', '$']\n",
      "[0, 3, 4, 5, 7, 5] <---||---> ['$']\n",
      "[0, 3, 4, 5, 7, 8] <---||---> ['$']\n",
      "[0, 3, 4, 6] <---||---> ['$']\n",
      "[0, 2] <---||---> ['$']\n"
     ]
    },
    {
     "data": {
      "text/plain": [
       "[A -> int, A -> int + A, A -> int, A -> int + A, E -> A = A]"
      ]
     },
     "execution_count": 4,
     "metadata": {},
     "output_type": "execute_result"
    }
   ],
   "source": [
    "derivation = parser([num, plus, num, equal, num, plus, num, G.EOF])\n",
    "\n",
    "assert str(derivation) == '[A -> int, A -> int + A, A -> int, A -> int + A, E -> A = A]'\n",
    "\n",
    "derivation"
   ]
  }
 ],
 "metadata": {
  "kernelspec": {
   "display_name": "Python 3",
   "language": "python",
   "name": "python3"
  },
  "language_info": {
   "codemirror_mode": {
    "name": "ipython",
    "version": 3
   },
   "file_extension": ".py",
   "mimetype": "text/x-python",
   "name": "python",
   "nbconvert_exporter": "python",
   "pygments_lexer": "ipython3",
   "version": "3.10.7"
  }
 },
 "nbformat": 4,
 "nbformat_minor": 2
}
