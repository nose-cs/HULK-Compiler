{
 "cells": [
  {
   "cell_type": "code",
   "execution_count": 1,
   "metadata": {},
   "outputs": [],
   "source": [
    "from src.code_gen.code_generator import CCodeGenerator\n",
    "from src.lexer.hulk_lexer import HulkLexer\n",
    "from src.parser.hulk_parser import HulkParser\n",
    "from src.hulk_grammar.hulk_grammar import G\n",
    "from src.evaluation import evaluate_reverse_parse\n",
    "from src.semantics.semantic_analysis_pipeline import semantic_analysis_pipeline\n",
    "\n",
    "lexer = HulkLexer(True)\n",
    "parser = HulkParser()"
   ]
  },
  {
   "cell_type": "code",
   "execution_count": 10,
   "metadata": {},
   "outputs": [
    {
     "name": "stdout",
     "output_type": "stream",
     "text": [
      "[]\n",
      "[]\n"
     ]
    }
   ],
   "source": [
    "tokens, errors = lexer('''      \n",
    "    type D {\n",
    "        getc() => while(false) 5;\n",
    "        equals(other: Object) => true;\n",
    "    }\n",
    "                       \n",
    "    let a = new D() in\n",
    "        if (3 as Object == \"abc\" as Object)\n",
    "            print(a.getc())\n",
    "        else\n",
    "            print(false);\n",
    "    ''')\n",
    "\n",
    "derivation, operations, parse_errors = parser(tokens)\n",
    "print(parse_errors)\n",
    "\n",
    "if len(parse_errors) == 0:\n",
    "    ast = evaluate_reverse_parse(derivation, operations, tokens)\n",
    "    ast, semantic_errors, context, scope = semantic_analysis_pipeline(ast, False)\n",
    "\n",
    "    print(semantic_errors)\n",
    "\n",
    "    if len(semantic_errors) == 0:\n",
    "        generator = CCodeGenerator()\n",
    "        code = generator(ast, context)\n",
    "\n",
    "        with open(\"test.c\", \"w\") as out:\n",
    "            out.write(code)"
   ]
  },
  {
   "cell_type": "code",
   "execution_count": 11,
   "metadata": {},
   "outputs": [
    {
     "data": {
      "text/plain": [
       "CompletedProcess(args=['start', 'cmd', '/k', 'test.exe'], returncode=0)"
      ]
     },
     "execution_count": 11,
     "metadata": {},
     "output_type": "execute_result"
    }
   ],
   "source": [
    "import subprocess\n",
    "\n",
    "subprocess.run([\"gcc\", \"test.c\", \"-o\", \"test.exe\"], shell=True)\n",
    "subprocess.run(['start', 'cmd', '/k', 'test.exe'], shell=True)"
   ]
  }
 ],
 "metadata": {
  "kernelspec": {
   "display_name": "Python 3",
   "language": "python",
   "name": "python3"
  },
  "language_info": {
   "codemirror_mode": {
    "name": "ipython",
    "version": 3
   },
   "file_extension": ".py",
   "mimetype": "text/x-python",
   "name": "python",
   "nbconvert_exporter": "python",
   "pygments_lexer": "ipython3",
   "version": "3.12.0"
  }
 },
 "nbformat": 4,
 "nbformat_minor": 2
}
