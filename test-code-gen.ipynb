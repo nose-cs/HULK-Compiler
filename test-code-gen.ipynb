{
 "cells": [
  {
   "cell_type": "code",
   "execution_count": 1,
   "metadata": {},
   "outputs": [],
   "source": [
    "from src.code_gen.code_generator import CCodeGenerator\n",
    "\n",
    "generator = CCodeGenerator()"
   ]
  },
  {
   "cell_type": "code",
   "execution_count": 4,
   "metadata": {},
   "outputs": [
    {
     "name": "stdout",
     "output_type": "stream",
     "text": [
      "Object* createA ();\n",
      "Object* method_A_abc (Object* self, Object* p0);\n",
      "\n",
      "Object* function_getA (Object* p0);\n",
      "\n",
      "Object* createA () {\n",
      "   Object* obj = createObject();\n",
      "\n",
      "\n",
      "   addAttribute(obj, \"parent_type0\", \"A\");\n",
      "   addAttribute(obj, \"method_A_abc\", *method_A_abc);\n",
      "   addAttribute(obj, \"parent_type1\", \"Object\");\n",
      "   return obj;\n",
      "}\n",
      "\n",
      "Object* letInNode0();\n",
      "\n",
      "Object* methodCallBlock0(Object* v0);\n",
      "\n",
      "Object* methodCallBlock1(Object* v0);\n",
      "\n",
      "Object* letInNode0() {\n",
      "   Object* v0 = copyObject(createNumber(5));\n",
      "   return function_print(copyObject(methodCallBlock0(v0)));\n",
      "}\n",
      "\n",
      "Object* methodCallBlock1(Object* v0) {\n",
      "   Object* obj = function_getA(copyObject(v0));\n",
      "   return ((Object* (*)(Object*, Object*))getMethodForCurrentType(obj, \"equals\", 0))(obj, v0);\n",
      "}\n",
      "\n",
      "Object* methodCallBlock0(Object* v0) {\n",
      "   Object* obj = function_getA(copyObject(v0));\n",
      "   return ((Object* (*)(Object*,Object*))getMethodForCurrentType(obj, \"abc\", 0))(obj, copyObject(methodCallBlock1(v0)));\n",
      "}\n",
      "\n",
      "Object* method_A_abc (Object* self, Object* p0) {\n",
      "   return createNumber(5);\n",
      "}\n",
      "\n",
      "Object* function_getA (Object* p0) {\n",
      "   return createA ();\n",
      "}\n",
      "\n",
      "\n",
      "int main() {\n",
      "   letInNode0();\n",
      "   return 0; \n",
      "}\n"
     ]
    }
   ],
   "source": [
    "code = generator('''  \n",
    "    type A {\n",
    "        abc(a) => 5;\n",
    "    }\n",
    "\n",
    "    function getA(a) => new A();\n",
    "                 \n",
    "    let a = 5 in print(getA(a).abc(getA(a) == a));\n",
    "    '''\n",
    ", False)\n",
    "\n",
    "print(code)"
   ]
  }
 ],
 "metadata": {
  "kernelspec": {
   "display_name": "Python 3",
   "language": "python",
   "name": "python3"
  },
  "language_info": {
   "codemirror_mode": {
    "name": "ipython",
    "version": 3
   },
   "file_extension": ".py",
   "mimetype": "text/x-python",
   "name": "python",
   "nbconvert_exporter": "python",
   "pygments_lexer": "ipython3",
   "version": "3.12.0"
  }
 },
 "nbformat": 4,
 "nbformat_minor": 2
}
