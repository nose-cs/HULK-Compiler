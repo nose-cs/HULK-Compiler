{
 "cells": [
  {
   "cell_type": "code",
   "execution_count": 1,
   "metadata": {},
   "outputs": [],
   "source": [
    "from src.code_gen.code_generator import CCodeGenerator\n",
    "\n",
    "generator = CCodeGenerator()"
   ]
  },
  {
   "cell_type": "code",
   "execution_count": 3,
   "metadata": {},
   "outputs": [
    {
     "name": "stdout",
     "output_type": "stream",
     "text": [
      "\n",
      "Object* letInNode0();\n",
      "\n",
      "Object* letInNode0() {\n",
      "   Object* v0 = copyObject(createString(\"5\"));\n",
      "   return function_print(copyObject(function_parse(copyObject(stringConcat(stringConcat(v0, createString(\"22\")), v0)))));\n",
      "}\n",
      "\n",
      "\n",
      "int main() {\n",
      "   srand(time(NULL));\n",
      "\n",
      "   letInNode0();\n",
      "   return 0; \n",
      "}\n"
     ]
    }
   ],
   "source": [
    "code = generator('''  \n",
    "    let a = \"5\" in print(parse(a @ \"22\" @ a));\n",
    "    '''\n",
    ", False)\n",
    "\n",
    "print(code)"
   ]
  }
 ],
 "metadata": {
  "kernelspec": {
   "display_name": "Python 3",
   "language": "python",
   "name": "python3"
  },
  "language_info": {
   "codemirror_mode": {
    "name": "ipython",
    "version": 3
   },
   "file_extension": ".py",
   "mimetype": "text/x-python",
   "name": "python",
   "nbconvert_exporter": "python",
   "pygments_lexer": "ipython3",
   "version": "3.12.0"
  }
 },
 "nbformat": 4,
 "nbformat_minor": 2
}
