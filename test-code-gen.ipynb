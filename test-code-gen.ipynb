{
 "cells": [
  {
   "cell_type": "code",
   "execution_count": 2,
   "metadata": {},
   "outputs": [],
   "source": [
    "from src.code_gen.code_generator import CCodeGenerator\n",
    "from src.lexer.hulk_lexer import HulkLexer\n",
    "from src.parser.hulk_parser import HulkParser\n",
    "from src.hulk_grammar.hulk_grammar import G\n",
    "from src.evaluation import evaluate_reverse_parse\n",
    "from src.semantics.semantic_analysis_pipeline import semantic_analysis_pipeline\n",
    "\n",
    "lexer = HulkLexer(True)\n",
    "parser = HulkParser()"
   ]
  },
  {
   "cell_type": "code",
   "execution_count": 7,
   "metadata": {},
   "outputs": [
    {
     "name": "stdout",
     "output_type": "stream",
     "text": [
      "[]\n",
      "[SemanticError: Cannot infer type of parameter 'A' in 'Sort'. Please specify it., SemanticError: Cannot infer return type of 'Sort'. Please specify it.]\n"
     ]
    }
   ],
   "source": [
    "tokens, errors = lexer('''  \n",
    "    function Sort(A) => \n",
    "            let  aux = 0 in for (i in range(0, A.size()))\n",
    "                for (j in range(i, A.size()))\n",
    "                 if(A[j] < A[i])\n",
    "                 {\n",
    "                    aux := A[i];\n",
    "                    A[i] := A[j];\n",
    "                    A[j] := aux;\n",
    "                    A;\n",
    "                }\n",
    "                else A;\n",
    "                       \n",
    "    print(Sort([78, 12, 100, 0, 6, 9, 4.5]));\n",
    "    ''')\n",
    "\n",
    "derivation, operations, errors = parser(tokens)\n",
    "print(errors)\n",
    "ast = evaluate_reverse_parse(derivation, operations, tokens)\n",
    "ast, semantic_errors, context, scope = semantic_analysis_pipeline(ast, False)\n",
    "\n",
    "generator = CCodeGenerator()\n",
    "code = generator(ast, context)\n",
    "\n",
    "with open(\"test.c\", \"w\") as out:\n",
    "    out.write(code)\n",
    "\n",
    "print(semantic_errors)"
   ]
  },
  {
   "cell_type": "code",
   "execution_count": 8,
   "metadata": {},
   "outputs": [
    {
     "data": {
      "text/plain": [
       "CompletedProcess(args=['start', 'cmd', '/k', 'test.exe'], returncode=0)"
      ]
     },
     "execution_count": 8,
     "metadata": {},
     "output_type": "execute_result"
    }
   ],
   "source": [
    "import subprocess\n",
    "\n",
    "subprocess.run([\"gcc\", \"test.c\", \"-o\", \"test.exe\"], shell=True)\n",
    "subprocess.run(['start', 'cmd', '/k', 'test.exe'], shell=True)"
   ]
  }
 ],
 "metadata": {
  "kernelspec": {
   "display_name": "Python 3",
   "language": "python",
   "name": "python3"
  },
  "language_info": {
   "codemirror_mode": {
    "name": "ipython",
    "version": 3
   },
   "file_extension": ".py",
   "mimetype": "text/x-python",
   "name": "python",
   "nbconvert_exporter": "python",
   "pygments_lexer": "ipython3",
   "version": "3.12.0"
  }
 },
 "nbformat": 4,
 "nbformat_minor": 2
}
