{
 "cells": [
  {
   "cell_type": "code",
   "execution_count": 1,
   "metadata": {},
   "outputs": [],
   "source": [
    "from src.code_gen.code_generator import CCodeGenerator\n",
    "\n",
    "generator = CCodeGenerator()"
   ]
  },
  {
   "cell_type": "code",
   "execution_count": 2,
   "metadata": {},
   "outputs": [
    {
     "name": "stdout",
     "output_type": "stream",
     "text": [
      "Object* function_fib (Object* p0);\n",
      "\n",
      "Object* ifElseBlock0(Object* p0);\n",
      "\n",
      "Object* ifElseBlock0(Object* p0) {\n",
      "   if(*((bool*)getAttributeValue(boolOr(((Object* (*)(Object*, Object*))getMethodForCurrentType(p0, \"equals\", 0))(p0, createNumber(0)), ((Object* (*)(Object*, Object*))getMethodForCurrentType(p0, \"equals\", 0))(p0, createNumber(1))), \"value\"))) {\n",
      "      return createNumber(1);\n",
      "   }\n",
      "   else {\n",
      "      return numberSum(function_fib(copyObject(numberMinus(p0, createNumber(1)))), function_fib(copyObject(numberMinus(p0, createNumber(2)))));\n",
      "   }\n",
      "}\n",
      "\n",
      "Object* function_fib (Object* p0) {\n",
      "   return ifElseBlock0(p0);\n",
      "}\n",
      "\n",
      "\n",
      "int main() {\n",
      "   function_print(copyObject(function_fib(copyObject(createNumber(5)))));\n",
      "   return 0; \n",
      "}\n"
     ]
    }
   ],
   "source": [
    "code = generator('''  \n",
    "    function fib(n) => if (n == 0 | n == 1) 1 else fib(n-1) + fib(n-2);\n",
    "\n",
    "    print(fib(5));\n",
    "    '''\n",
    ", False)\n",
    "\n",
    "print(code)"
   ]
  }
 ],
 "metadata": {
  "kernelspec": {
   "display_name": "Python 3",
   "language": "python",
   "name": "python3"
  },
  "language_info": {
   "codemirror_mode": {
    "name": "ipython",
    "version": 3
   },
   "file_extension": ".py",
   "mimetype": "text/x-python",
   "name": "python",
   "nbconvert_exporter": "python",
   "pygments_lexer": "ipython3",
   "version": "3.12.0"
  }
 },
 "nbformat": 4,
 "nbformat_minor": 2
}
