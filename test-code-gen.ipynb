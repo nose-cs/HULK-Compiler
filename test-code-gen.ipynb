{
 "cells": [
  {
   "cell_type": "code",
   "execution_count": 1,
   "metadata": {},
   "outputs": [],
   "source": [
    "from src.code_gen.code_generator import CCodeGenerator\n",
    "\n",
    "generator = CCodeGenerator()"
   ]
  },
  {
   "cell_type": "code",
   "execution_count": 7,
   "metadata": {},
   "outputs": [
    {
     "name": "stdout",
     "output_type": "stream",
     "text": [
      "\n",
      "Object* letInNode0();\n",
      "\n",
      "Object* letInNode1(Object* v0);\n",
      "\n",
      "Object* ifElseBlock0(Object* v1, Object* v0);\n",
      "\n",
      "Object* letInNode2(Object* v1, Object* v0);\n",
      "\n",
      "Object* ifElseBlock1(Object* v1, Object* v0);\n",
      "\n",
      "Object* letInNode2(Object* v1, Object* v0) {\n",
      "   Object* v2 = copyObject(createNumber(1));\n",
      "   return ((Object* (*)(Object*, Object*))getMethodForCurrentType(v2, \"equals\", 0))(v2, createNumber(1));\n",
      "}\n",
      "\n",
      "Object* letInNode1(Object* v0) {\n",
      "   Object* v1 = copyObject(createNumber(8));\n",
      "   replaceObject(v1, ifElseBlock0(v1, v0));\n",
      "   return replaceObject(v0, ifElseBlock1(v1, v0));\n",
      "}\n",
      "\n",
      "Object* letInNode0() {\n",
      "   Object* v0 = copyObject(createNumber(5));\n",
      "   return replaceObject(v0, letInNode1(v0));\n",
      "}\n",
      "\n",
      "Object* ifElseBlock0(Object* v1, Object* v0) {\n",
      "   if(*((bool*)getAttributeValue(letInNode2(v1, v0), \"value\"))) {\n",
      "      return createNumber(3);\n",
      "   }\n",
      "   else {\n",
      "      return createNumber(5);\n",
      "   }\n",
      "}\n",
      "\n",
      "Object* ifElseBlock1(Object* v1, Object* v0) {\n",
      "   if(*((bool*)getAttributeValue(invertBool(((Object* (*)(Object*, Object*))getMethodForCurrentType(v1, \"equals\", 0))(v1, createNumber(3))), \"value\"))) {\n",
      "      return v1;\n",
      "   }\n",
      "   else {\n",
      "      return createNumber(9);\n",
      "   }\n",
      "}\n",
      "\n",
      "\n",
      "int main() {\n",
      "   function_print(copyObject(letInNode0()));\n",
      "   return 0; \n",
      "}\n"
     ]
    }
   ],
   "source": [
    "code = generator('''  \n",
    "    print(let a = 5 in {\n",
    "        a := let b = 8 in {\n",
    "            b := if (let b = 1 in b == 1) 3 else 5; \n",
    "            a := if (b != 3) b else 9;      \n",
    "        };\n",
    "    });\n",
    "    '''\n",
    ", False)\n",
    "\n",
    "print(code)"
   ]
  }
 ],
 "metadata": {
  "kernelspec": {
   "display_name": "Python 3",
   "language": "python",
   "name": "python3"
  },
  "language_info": {
   "codemirror_mode": {
    "name": "ipython",
    "version": 3
   },
   "file_extension": ".py",
   "mimetype": "text/x-python",
   "name": "python",
   "nbconvert_exporter": "python",
   "pygments_lexer": "ipython3",
   "version": "3.12.0"
  }
 },
 "nbformat": 4,
 "nbformat_minor": 2
}
