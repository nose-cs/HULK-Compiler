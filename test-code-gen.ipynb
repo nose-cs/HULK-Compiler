{
 "cells": [
  {
   "cell_type": "code",
   "execution_count": 1,
   "metadata": {},
   "outputs": [],
   "source": [
    "from src.code_gen.code_generator import CCodeGenerator\n",
    "from src.lexer.hulk_lexer import HulkLexer\n",
    "from src.parsing import LR1Parser\n",
    "from src.hulk_grammar.hulk_grammar import G\n",
    "from src.evaluation import evaluate_reverse_parse\n",
    "from src.semantics.semantic_analysis_pipeline import semantic_analysis_pipeline\n",
    "\n",
    "lexer = HulkLexer(True)\n",
    "parser = LR1Parser(G)"
   ]
  },
  {
   "cell_type": "code",
   "execution_count": 2,
   "metadata": {},
   "outputs": [
    {
     "ename": "AttributeError",
     "evalue": "'NoneType' object has no attribute 'type'",
     "output_type": "error",
     "traceback": [
      "\u001b[1;31m---------------------------------------------------------------------------\u001b[0m",
      "\u001b[1;31mAttributeError\u001b[0m                            Traceback (most recent call last)",
      "Cell \u001b[1;32mIn[2], line 9\u001b[0m\n\u001b[0;32m      7\u001b[0m derivation, operations \u001b[38;5;241m=\u001b[39m parser([t\u001b[38;5;241m.\u001b[39mtoken_type \u001b[38;5;28;01mfor\u001b[39;00m t \u001b[38;5;129;01min\u001b[39;00m tokens])\n\u001b[0;32m      8\u001b[0m ast \u001b[38;5;241m=\u001b[39m evaluate_reverse_parse(derivation, operations, tokens)\n\u001b[1;32m----> 9\u001b[0m ast, semantic_errors, context, scope \u001b[38;5;241m=\u001b[39m \u001b[43msemantic_analysis_pipeline\u001b[49m\u001b[43m(\u001b[49m\u001b[43mast\u001b[49m\u001b[43m,\u001b[49m\u001b[43m \u001b[49m\u001b[38;5;28;43;01mFalse\u001b[39;49;00m\u001b[43m)\u001b[49m\n\u001b[0;32m     11\u001b[0m generator \u001b[38;5;241m=\u001b[39m CCodeGenerator()\n\u001b[0;32m     12\u001b[0m code \u001b[38;5;241m=\u001b[39m generator(ast, context)\n",
      "File \u001b[1;32md:\\SVD\\compiler_proy\\src\\semantics\\semantic_analysis_pipeline.py:53\u001b[0m, in \u001b[0;36msemantic_analysis_pipeline\u001b[1;34m(ast, debug)\u001b[0m\n\u001b[0;32m     51\u001b[0m     \u001b[38;5;28mprint\u001b[39m(\u001b[38;5;124m'\u001b[39m\u001b[38;5;124m---------------- INFERRING TYPES ------------------\u001b[39m\u001b[38;5;124m'\u001b[39m)\n\u001b[0;32m     52\u001b[0m type_inference \u001b[38;5;241m=\u001b[39m TypeInferrer(context, errors)\n\u001b[1;32m---> 53\u001b[0m \u001b[43mtype_inference\u001b[49m\u001b[38;5;241;43m.\u001b[39;49m\u001b[43mvisit\u001b[49m\u001b[43m(\u001b[49m\u001b[43mast\u001b[49m\u001b[43m,\u001b[49m\u001b[43m \u001b[49m\u001b[43mscope\u001b[49m\u001b[43m)\u001b[49m\n\u001b[0;32m     54\u001b[0m \u001b[38;5;28;01mif\u001b[39;00m debug:\n\u001b[0;32m     55\u001b[0m     \u001b[38;5;28mprint\u001b[39m(\u001b[38;5;124m'\u001b[39m\u001b[38;5;124mErrors: [\u001b[39m\u001b[38;5;124m'\u001b[39m)\n",
      "File \u001b[1;32md:\\SVD\\compiler_proy\\src\\visitor.py:46\u001b[0m, in \u001b[0;36mwhen.<locals>.f.<locals>.ff\u001b[1;34m(*args, **kw)\u001b[0m\n\u001b[0;32m     45\u001b[0m \u001b[38;5;28;01mdef\u001b[39;00m \u001b[38;5;21mff\u001b[39m(\u001b[38;5;241m*\u001b[39margs, \u001b[38;5;241m*\u001b[39m\u001b[38;5;241m*\u001b[39mkw):\n\u001b[1;32m---> 46\u001b[0m     \u001b[38;5;28;01mreturn\u001b[39;00m \u001b[43mdispatcher\u001b[49m\u001b[43m(\u001b[49m\u001b[38;5;241;43m*\u001b[39;49m\u001b[43margs\u001b[49m\u001b[43m,\u001b[49m\u001b[43m \u001b[49m\u001b[38;5;241;43m*\u001b[39;49m\u001b[38;5;241;43m*\u001b[39;49m\u001b[43mkw\u001b[49m\u001b[43m)\u001b[49m\n",
      "File \u001b[1;32md:\\SVD\\compiler_proy\\src\\visitor.py:66\u001b[0m, in \u001b[0;36mDispatcher.__call__\u001b[1;34m(self, *args, **kw)\u001b[0m\n\u001b[0;32m     64\u001b[0m d \u001b[38;5;241m=\u001b[39m \u001b[38;5;28mself\u001b[39m\u001b[38;5;241m.\u001b[39mtargets\u001b[38;5;241m.\u001b[39mget(typ)\n\u001b[0;32m     65\u001b[0m \u001b[38;5;28;01mif\u001b[39;00m d \u001b[38;5;129;01mis\u001b[39;00m \u001b[38;5;129;01mnot\u001b[39;00m \u001b[38;5;28;01mNone\u001b[39;00m:\n\u001b[1;32m---> 66\u001b[0m     \u001b[38;5;28;01mreturn\u001b[39;00m \u001b[43md\u001b[49m\u001b[43m(\u001b[49m\u001b[38;5;241;43m*\u001b[39;49m\u001b[43margs\u001b[49m\u001b[43m,\u001b[49m\u001b[43m \u001b[49m\u001b[38;5;241;43m*\u001b[39;49m\u001b[38;5;241;43m*\u001b[39;49m\u001b[43mkw\u001b[49m\u001b[43m)\u001b[49m\n\u001b[0;32m     67\u001b[0m \u001b[38;5;28;01melse\u001b[39;00m:\n\u001b[0;32m     68\u001b[0m     issub \u001b[38;5;241m=\u001b[39m \u001b[38;5;28missubclass\u001b[39m\n",
      "File \u001b[1;32md:\\SVD\\compiler_proy\\src\\semantics\\type_inferrer_visitor.py:41\u001b[0m, in \u001b[0;36mTypeInferrer.visit\u001b[1;34m(self, node, scope)\u001b[0m\n\u001b[0;32m     38\u001b[0m \u001b[38;5;129m@visitor\u001b[39m\u001b[38;5;241m.\u001b[39mwhen(hulk_nodes\u001b[38;5;241m.\u001b[39mProgramNode)\n\u001b[0;32m     39\u001b[0m \u001b[38;5;28;01mdef\u001b[39;00m \u001b[38;5;21mvisit\u001b[39m(\u001b[38;5;28mself\u001b[39m, node: hulk_nodes\u001b[38;5;241m.\u001b[39mProgramNode, scope: Scope):\n\u001b[0;32m     40\u001b[0m     \u001b[38;5;28;01mfor\u001b[39;00m declaration, child_scope \u001b[38;5;129;01min\u001b[39;00m \u001b[38;5;28mzip\u001b[39m(node\u001b[38;5;241m.\u001b[39mdeclarations, scope\u001b[38;5;241m.\u001b[39mchildren):\n\u001b[1;32m---> 41\u001b[0m         \u001b[38;5;28;43mself\u001b[39;49m\u001b[38;5;241;43m.\u001b[39;49m\u001b[43mvisit\u001b[49m\u001b[43m(\u001b[49m\u001b[43mdeclaration\u001b[49m\u001b[43m,\u001b[49m\u001b[43m \u001b[49m\u001b[43mchild_scope\u001b[49m\u001b[43m)\u001b[49m\n\u001b[0;32m     43\u001b[0m     \u001b[38;5;28mself\u001b[39m\u001b[38;5;241m.\u001b[39mvisit(node\u001b[38;5;241m.\u001b[39mexpression, scope\u001b[38;5;241m.\u001b[39mchildren[\u001b[38;5;241m-\u001b[39m\u001b[38;5;241m1\u001b[39m])\n\u001b[0;32m     45\u001b[0m     \u001b[38;5;28;01mreturn\u001b[39;00m scope\n",
      "File \u001b[1;32md:\\SVD\\compiler_proy\\src\\visitor.py:46\u001b[0m, in \u001b[0;36mwhen.<locals>.f.<locals>.ff\u001b[1;34m(*args, **kw)\u001b[0m\n\u001b[0;32m     45\u001b[0m \u001b[38;5;28;01mdef\u001b[39;00m \u001b[38;5;21mff\u001b[39m(\u001b[38;5;241m*\u001b[39margs, \u001b[38;5;241m*\u001b[39m\u001b[38;5;241m*\u001b[39mkw):\n\u001b[1;32m---> 46\u001b[0m     \u001b[38;5;28;01mreturn\u001b[39;00m \u001b[43mdispatcher\u001b[49m\u001b[43m(\u001b[49m\u001b[38;5;241;43m*\u001b[39;49m\u001b[43margs\u001b[49m\u001b[43m,\u001b[49m\u001b[43m \u001b[49m\u001b[38;5;241;43m*\u001b[39;49m\u001b[38;5;241;43m*\u001b[39;49m\u001b[43mkw\u001b[49m\u001b[43m)\u001b[49m\n",
      "File \u001b[1;32md:\\SVD\\compiler_proy\\src\\visitor.py:66\u001b[0m, in \u001b[0;36mDispatcher.__call__\u001b[1;34m(self, *args, **kw)\u001b[0m\n\u001b[0;32m     64\u001b[0m d \u001b[38;5;241m=\u001b[39m \u001b[38;5;28mself\u001b[39m\u001b[38;5;241m.\u001b[39mtargets\u001b[38;5;241m.\u001b[39mget(typ)\n\u001b[0;32m     65\u001b[0m \u001b[38;5;28;01mif\u001b[39;00m d \u001b[38;5;129;01mis\u001b[39;00m \u001b[38;5;129;01mnot\u001b[39;00m \u001b[38;5;28;01mNone\u001b[39;00m:\n\u001b[1;32m---> 66\u001b[0m     \u001b[38;5;28;01mreturn\u001b[39;00m \u001b[43md\u001b[49m\u001b[43m(\u001b[49m\u001b[38;5;241;43m*\u001b[39;49m\u001b[43margs\u001b[49m\u001b[43m,\u001b[49m\u001b[43m \u001b[49m\u001b[38;5;241;43m*\u001b[39;49m\u001b[38;5;241;43m*\u001b[39;49m\u001b[43mkw\u001b[49m\u001b[43m)\u001b[49m\n\u001b[0;32m     67\u001b[0m \u001b[38;5;28;01melse\u001b[39;00m:\n\u001b[0;32m     68\u001b[0m     issub \u001b[38;5;241m=\u001b[39m \u001b[38;5;28missubclass\u001b[39m\n",
      "File \u001b[1;32md:\\SVD\\compiler_proy\\src\\semantics\\type_inferrer_visitor.py:136\u001b[0m, in \u001b[0;36mTypeInferrer.visit\u001b[1;34m(self, node, scope)\u001b[0m\n\u001b[0;32m    133\u001b[0m function: Function \u001b[38;5;241m=\u001b[39m \u001b[38;5;28mself\u001b[39m\u001b[38;5;241m.\u001b[39mcontext\u001b[38;5;241m.\u001b[39mget_function(node\u001b[38;5;241m.\u001b[39mid)\n\u001b[0;32m    135\u001b[0m new_scope \u001b[38;5;241m=\u001b[39m scope\u001b[38;5;241m.\u001b[39mchildren[\u001b[38;5;241m0\u001b[39m]\n\u001b[1;32m--> 136\u001b[0m return_type \u001b[38;5;241m=\u001b[39m \u001b[38;5;28;43mself\u001b[39;49m\u001b[38;5;241;43m.\u001b[39;49m\u001b[43mvisit\u001b[49m\u001b[43m(\u001b[49m\u001b[43mnode\u001b[49m\u001b[38;5;241;43m.\u001b[39;49m\u001b[43mexpr\u001b[49m\u001b[43m,\u001b[49m\u001b[43m \u001b[49m\u001b[43mnew_scope\u001b[49m\u001b[43m)\u001b[49m\n\u001b[0;32m    138\u001b[0m \u001b[38;5;28;01mif\u001b[39;00m function\u001b[38;5;241m.\u001b[39mreturn_type \u001b[38;5;241m==\u001b[39m types\u001b[38;5;241m.\u001b[39mAutoType():\n\u001b[0;32m    139\u001b[0m     \u001b[38;5;28;01mif\u001b[39;00m return_type \u001b[38;5;241m==\u001b[39m types\u001b[38;5;241m.\u001b[39mAutoType():\n",
      "File \u001b[1;32md:\\SVD\\compiler_proy\\src\\visitor.py:46\u001b[0m, in \u001b[0;36mwhen.<locals>.f.<locals>.ff\u001b[1;34m(*args, **kw)\u001b[0m\n\u001b[0;32m     45\u001b[0m \u001b[38;5;28;01mdef\u001b[39;00m \u001b[38;5;21mff\u001b[39m(\u001b[38;5;241m*\u001b[39margs, \u001b[38;5;241m*\u001b[39m\u001b[38;5;241m*\u001b[39mkw):\n\u001b[1;32m---> 46\u001b[0m     \u001b[38;5;28;01mreturn\u001b[39;00m \u001b[43mdispatcher\u001b[49m\u001b[43m(\u001b[49m\u001b[38;5;241;43m*\u001b[39;49m\u001b[43margs\u001b[49m\u001b[43m,\u001b[49m\u001b[43m \u001b[49m\u001b[38;5;241;43m*\u001b[39;49m\u001b[38;5;241;43m*\u001b[39;49m\u001b[43mkw\u001b[49m\u001b[43m)\u001b[49m\n",
      "File \u001b[1;32md:\\SVD\\compiler_proy\\src\\visitor.py:66\u001b[0m, in \u001b[0;36mDispatcher.__call__\u001b[1;34m(self, *args, **kw)\u001b[0m\n\u001b[0;32m     64\u001b[0m d \u001b[38;5;241m=\u001b[39m \u001b[38;5;28mself\u001b[39m\u001b[38;5;241m.\u001b[39mtargets\u001b[38;5;241m.\u001b[39mget(typ)\n\u001b[0;32m     65\u001b[0m \u001b[38;5;28;01mif\u001b[39;00m d \u001b[38;5;129;01mis\u001b[39;00m \u001b[38;5;129;01mnot\u001b[39;00m \u001b[38;5;28;01mNone\u001b[39;00m:\n\u001b[1;32m---> 66\u001b[0m     \u001b[38;5;28;01mreturn\u001b[39;00m \u001b[43md\u001b[49m\u001b[43m(\u001b[49m\u001b[38;5;241;43m*\u001b[39;49m\u001b[43margs\u001b[49m\u001b[43m,\u001b[49m\u001b[43m \u001b[49m\u001b[38;5;241;43m*\u001b[39;49m\u001b[38;5;241;43m*\u001b[39;49m\u001b[43mkw\u001b[49m\u001b[43m)\u001b[49m\n\u001b[0;32m     67\u001b[0m \u001b[38;5;28;01melse\u001b[39;00m:\n\u001b[0;32m     68\u001b[0m     issub \u001b[38;5;241m=\u001b[39m \u001b[38;5;28missubclass\u001b[39m\n",
      "File \u001b[1;32md:\\SVD\\compiler_proy\\src\\semantics\\type_inferrer_visitor.py:194\u001b[0m, in \u001b[0;36mTypeInferrer.visit\u001b[1;34m(self, node, scope)\u001b[0m\n\u001b[0;32m    191\u001b[0m     \u001b[38;5;28mself\u001b[39m\u001b[38;5;241m.\u001b[39mvisit(declaration, var_scope)\n\u001b[0;32m    192\u001b[0m     let_in_scope \u001b[38;5;241m=\u001b[39m var_scope\n\u001b[1;32m--> 194\u001b[0m return_type \u001b[38;5;241m=\u001b[39m \u001b[38;5;28;43mself\u001b[39;49m\u001b[38;5;241;43m.\u001b[39;49m\u001b[43mvisit\u001b[49m\u001b[43m(\u001b[49m\u001b[43mnode\u001b[49m\u001b[38;5;241;43m.\u001b[39;49m\u001b[43mbody\u001b[49m\u001b[43m,\u001b[49m\u001b[43m \u001b[49m\u001b[43mlet_in_scope\u001b[49m\u001b[43m)\u001b[49m\n\u001b[0;32m    196\u001b[0m \u001b[38;5;28;01mreturn\u001b[39;00m return_type\n",
      "File \u001b[1;32md:\\SVD\\compiler_proy\\src\\visitor.py:46\u001b[0m, in \u001b[0;36mwhen.<locals>.f.<locals>.ff\u001b[1;34m(*args, **kw)\u001b[0m\n\u001b[0;32m     45\u001b[0m \u001b[38;5;28;01mdef\u001b[39;00m \u001b[38;5;21mff\u001b[39m(\u001b[38;5;241m*\u001b[39margs, \u001b[38;5;241m*\u001b[39m\u001b[38;5;241m*\u001b[39mkw):\n\u001b[1;32m---> 46\u001b[0m     \u001b[38;5;28;01mreturn\u001b[39;00m \u001b[43mdispatcher\u001b[49m\u001b[43m(\u001b[49m\u001b[38;5;241;43m*\u001b[39;49m\u001b[43margs\u001b[49m\u001b[43m,\u001b[49m\u001b[43m \u001b[49m\u001b[38;5;241;43m*\u001b[39;49m\u001b[38;5;241;43m*\u001b[39;49m\u001b[43mkw\u001b[49m\u001b[43m)\u001b[49m\n",
      "File \u001b[1;32md:\\SVD\\compiler_proy\\src\\visitor.py:66\u001b[0m, in \u001b[0;36mDispatcher.__call__\u001b[1;34m(self, *args, **kw)\u001b[0m\n\u001b[0;32m     64\u001b[0m d \u001b[38;5;241m=\u001b[39m \u001b[38;5;28mself\u001b[39m\u001b[38;5;241m.\u001b[39mtargets\u001b[38;5;241m.\u001b[39mget(typ)\n\u001b[0;32m     65\u001b[0m \u001b[38;5;28;01mif\u001b[39;00m d \u001b[38;5;129;01mis\u001b[39;00m \u001b[38;5;129;01mnot\u001b[39;00m \u001b[38;5;28;01mNone\u001b[39;00m:\n\u001b[1;32m---> 66\u001b[0m     \u001b[38;5;28;01mreturn\u001b[39;00m \u001b[43md\u001b[49m\u001b[43m(\u001b[49m\u001b[38;5;241;43m*\u001b[39;49m\u001b[43margs\u001b[49m\u001b[43m,\u001b[49m\u001b[43m \u001b[49m\u001b[38;5;241;43m*\u001b[39;49m\u001b[38;5;241;43m*\u001b[39;49m\u001b[43mkw\u001b[49m\u001b[43m)\u001b[49m\n\u001b[0;32m     67\u001b[0m \u001b[38;5;28;01melse\u001b[39;00m:\n\u001b[0;32m     68\u001b[0m     issub \u001b[38;5;241m=\u001b[39m \u001b[38;5;28missubclass\u001b[39m\n",
      "File \u001b[1;32md:\\SVD\\compiler_proy\\src\\semantics\\type_inferrer_visitor.py:230\u001b[0m, in \u001b[0;36mTypeInferrer.visit\u001b[1;34m(self, node, scope)\u001b[0m\n\u001b[0;32m    228\u001b[0m \u001b[38;5;28;01mif\u001b[39;00m ttype\u001b[38;5;241m.\u001b[39mconforms_to(iterable_protocol):\n\u001b[0;32m    229\u001b[0m     element_type \u001b[38;5;241m=\u001b[39m ttype\u001b[38;5;241m.\u001b[39mget_method(\u001b[38;5;124m'\u001b[39m\u001b[38;5;124mcurrent\u001b[39m\u001b[38;5;124m'\u001b[39m)\u001b[38;5;241m.\u001b[39mreturn_type\n\u001b[1;32m--> 230\u001b[0m     \u001b[43mvariable\u001b[49m\u001b[38;5;241;43m.\u001b[39;49m\u001b[43mtype\u001b[49m \u001b[38;5;241m=\u001b[39m element_type\n\u001b[0;32m    231\u001b[0m \u001b[38;5;28;01melse\u001b[39;00m:\n\u001b[0;32m    232\u001b[0m     variable\u001b[38;5;241m.\u001b[39mtype \u001b[38;5;241m=\u001b[39m types\u001b[38;5;241m.\u001b[39mErrorType()\n",
      "\u001b[1;31mAttributeError\u001b[0m: 'NoneType' object has no attribute 'type'"
     ]
    }
   ],
   "source": [
    "tokens, errors = lexer('''  \n",
    "    function IsPrime(n) => let a = false in for(i in range(2,sqrt(n)))\n",
    "        if(n % i == 0) a := true else a;\n",
    "                       \n",
    "    IsPrime(23);\n",
    "    ''')\n",
    "\n",
    "derivation, operations = parser([t.token_type for t in tokens])\n",
    "ast = evaluate_reverse_parse(derivation, operations, tokens)\n",
    "ast, semantic_errors, context, scope = semantic_analysis_pipeline(ast, False)\n",
    "\n",
    "generator = CCodeGenerator()\n",
    "code = generator(ast, context)\n",
    "\n",
    "with open(\"test.c\", \"w\") as out:\n",
    "    out.write(code)"
   ]
  },
  {
   "cell_type": "code",
   "execution_count": 7,
   "metadata": {},
   "outputs": [
    {
     "data": {
      "text/plain": [
       "CompletedProcess(args=['start', 'cmd', '/k', 'test.exe'], returncode=0)"
      ]
     },
     "execution_count": 7,
     "metadata": {},
     "output_type": "execute_result"
    }
   ],
   "source": [
    "import subprocess\n",
    "\n",
    "subprocess.run([\"gcc\", \"test.c\", \"-o\", \"test.exe\"], shell=True)\n",
    "subprocess.run(['start', 'cmd', '/k', 'test.exe'], shell=True)"
   ]
  }
 ],
 "metadata": {
  "kernelspec": {
   "display_name": "Python 3",
   "language": "python",
   "name": "python3"
  },
  "language_info": {
   "codemirror_mode": {
    "name": "ipython",
    "version": 3
   },
   "file_extension": ".py",
   "mimetype": "text/x-python",
   "name": "python",
   "nbconvert_exporter": "python",
   "pygments_lexer": "ipython3",
   "version": "3.12.0"
  }
 },
 "nbformat": 4,
 "nbformat_minor": 2
}
