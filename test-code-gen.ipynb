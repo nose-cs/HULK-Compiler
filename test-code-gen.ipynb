{
 "cells": [
  {
   "cell_type": "code",
   "execution_count": 3,
   "metadata": {},
   "outputs": [],
   "source": [
    "from src.code_gen.code_generator import CCodeGenerator\n",
    "from src.lexer.hulk_lexer import HulkLexer\n",
    "from src.parsing import LR1Parser\n",
    "from src.hulk_grammar.hulk_grammar import G\n",
    "from src.evaluation import evaluate_reverse_parse\n",
    "from src.semantics.semantic_analysis_pipeline import semantic_analysis_pipeline\n",
    "\n",
    "lexer = HulkLexer(True)\n",
    "parser = LR1Parser(G)"
   ]
  },
  {
   "cell_type": "code",
   "execution_count": 6,
   "metadata": {},
   "outputs": [],
   "source": [
    "tokens, errors = lexer('''  \n",
    "    protocol ABC {\n",
    "        getc() : Number;\n",
    "    }\n",
    "                 \n",
    "    protocol AZX {\n",
    "        qwerty() : String;\n",
    "    }\n",
    "\n",
    "    type A (x, y) {\n",
    "        p = y;\n",
    "        r = x;\n",
    "        getc() => 3;\n",
    "        qwerty() => \"abc\";\n",
    "    }\n",
    "                 \n",
    "    type B inherits A {\n",
    "        p = y;\n",
    "        getc() => 6 + base();\n",
    "    }\n",
    "                 \n",
    "    type C (x, y, z) inherits B (x + y, y + z) {\n",
    "                 \n",
    "    }\n",
    "                 \n",
    "    type D inherits C {\n",
    "        d = x^2;\n",
    "        getc() => base() + 5;\n",
    "    }\n",
    "                 \n",
    "    let a = new D(2, 3, 4) in print(a.getc());\n",
    "    ''')\n",
    "\n",
    "derivation, operations = parser([t.token_type for t in tokens])\n",
    "ast = evaluate_reverse_parse(derivation, operations, tokens)\n",
    "ast, semantic_errors, context, scope = semantic_analysis_pipeline(ast, False)\n",
    "\n",
    "generator = CCodeGenerator()\n",
    "code = generator(ast, context)\n",
    "\n",
    "with open(\"test.c\", \"w\") as out:\n",
    "    out.write(code)"
   ]
  },
  {
   "cell_type": "code",
   "execution_count": 7,
   "metadata": {},
   "outputs": [
    {
     "data": {
      "text/plain": [
       "CompletedProcess(args=['start', 'cmd', '/k', 'test.exe'], returncode=0)"
      ]
     },
     "execution_count": 7,
     "metadata": {},
     "output_type": "execute_result"
    }
   ],
   "source": [
    "import subprocess\n",
    "\n",
    "subprocess.run([\"gcc\", \"test.c\", \"-o\", \"test.exe\"], shell=True)\n",
    "subprocess.run(['start', 'cmd', '/k', 'test.exe'], shell=True)"
   ]
  }
 ],
 "metadata": {
  "kernelspec": {
   "display_name": "Python 3",
   "language": "python",
   "name": "python3"
  },
  "language_info": {
   "codemirror_mode": {
    "name": "ipython",
    "version": 3
   },
   "file_extension": ".py",
   "mimetype": "text/x-python",
   "name": "python",
   "nbconvert_exporter": "python",
   "pygments_lexer": "ipython3",
   "version": "3.12.0"
  }
 },
 "nbformat": 4,
 "nbformat_minor": 2
}
