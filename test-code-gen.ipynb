{
 "cells": [
  {
   "cell_type": "code",
   "execution_count": 1,
   "metadata": {},
   "outputs": [],
   "source": [
    "from src.code_gen.code_generator import CCodeGenerator\n",
    "\n",
    "generator = CCodeGenerator()"
   ]
  },
  {
   "cell_type": "code",
   "execution_count": 2,
   "metadata": {},
   "outputs": [
    {
     "name": "stdout",
     "output_type": "stream",
     "text": [
      "\n",
      "Object* condition0(Object* v0);\n",
      "\n",
      "Object* whileBlock0(Object* v0);\n",
      "\n",
      "Object* selector0 (Object* v0, Object* v1);\n",
      "\n",
      "Object* condition1(Object* v1, Object* v0);\n",
      "\n",
      "Object* condition2(Object* v1, Object* v0);\n",
      "\n",
      "Object* ifElseBlock0(Object* v1, Object* v0);\n",
      "\n",
      "Object* vectorComprehension0 (Object* v0);\n",
      "\n",
      "Object* condition0(Object* v0) {\n",
      "   return numberLessThan(v0, createNumber(10));\n",
      "}\n",
      "\n",
      "Object* condition1(Object* v1, Object* v0) {\n",
      "   return ((Object* (*)(Object*, Object*))getMethodForCurrentType(numberMod(v1, createNumber(2)), \"equals\", 0))(numberMod(v1, createNumber(2)), createNumber(0));\n",
      "}\n",
      "\n",
      "Object* condition2(Object* v1, Object* v0) {\n",
      "   return ((Object* (*)(Object*, Object*))getMethodForCurrentType(v1, \"equals\", 0))(v1, createNumber(1));\n",
      "}\n",
      "\n",
      "Object* ifElseBlock0(Object* v1, Object* v0) {\n",
      "   if(*((bool*)getAttributeValue(condition1(v1, v0), \"value\"))) {\n",
      "      return createString(\"a\");\n",
      "   }\n",
      "   else if(*((bool*)getAttributeValue(condition2(v1, v0), \"value\"))) {\n",
      "      return createBool(true);\n",
      "   }\n",
      "   else {\n",
      "      return numberPow(v1, createNumber(2));\n",
      "   }\n",
      "}\n",
      "\n",
      "Object* whileBlock0(Object* v0) {\n",
      "   Object* return_obj = NULL;\n",
      "   while(*((bool*)getAttributeValue(condition0(v0), \"value\"))) {\n",
      "      replaceObject(v0, numberSum(v0, createNumber(1)));\n",
      "      return_obj = function_print(vectorComprehension0(v0));;\n",
      "   }\n",
      "   return return_obj;\n",
      "}\n",
      "\n",
      "Object* selector0 (Object* v0, Object* v1) {\n",
      "   return ifElseBlock0(v1, v0);\n",
      "}\n",
      "\n",
      "Object* vectorComprehension0 (Object* v0) {\n",
      "   Object* vector = function_range(createNumber(1), createNumber(10));\n",
      "   Object** list = getAttributeValue(vector, \"list\");\n",
      "   int size = *(int*)getAttributeValue(vector, \"size\");\n",
      "\n",
      "   Object** new_list = malloc(size * sizeof(Object*));\n",
      "\n",
      "   for(int i = 0; i < size; i++) {\n",
      "      new_list[i] = selector0(v0, list[i]);\n",
      "   }\n",
      "\n",
      "   return createVectorFromList(size, new_list);\n",
      "}\n",
      "\n",
      "\n",
      "int main() {\n",
      "   Object* v0 = createNumber(0);\n",
      "   whileBlock0(v0);\n",
      "   return 0; \n",
      "}\n"
     ]
    }
   ],
   "source": [
    "code = generator('''  \n",
    "    let a = 0 in while(a < 10) {\n",
    "        a := a + 1;\n",
    "        print([if (x % 2 == 0) \"a\" elif (x == 1) true else x^2 || x in range(1, 10)]);\n",
    "    };\n",
    "    '''\n",
    ", False)\n",
    "\n",
    "print(code)"
   ]
  }
 ],
 "metadata": {
  "kernelspec": {
   "display_name": "Python 3",
   "language": "python",
   "name": "python3"
  },
  "language_info": {
   "codemirror_mode": {
    "name": "ipython",
    "version": 3
   },
   "file_extension": ".py",
   "mimetype": "text/x-python",
   "name": "python",
   "nbconvert_exporter": "python",
   "pygments_lexer": "ipython3",
   "version": "3.12.0"
  }
 },
 "nbformat": 4,
 "nbformat_minor": 2
}
