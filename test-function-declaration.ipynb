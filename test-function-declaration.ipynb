{
 "cells": [
  {
   "cell_type": "code",
   "execution_count": 1,
   "metadata": {},
   "outputs": [],
   "source": [
    "from src.lexer.hulk_lexer import HulkLexer\n",
    "\n",
    "lexer = HulkLexer()"
   ]
  },
  {
   "cell_type": "code",
   "execution_count": 2,
   "metadata": {},
   "outputs": [],
   "source": [
    "from src.hulk_grammar.hulk_grammar import G\n",
    "from src.parsing import SLR1Parser\n",
    "\n",
    "parser = SLR1Parser(G)"
   ]
  },
  {
   "cell_type": "code",
   "execution_count": 3,
   "metadata": {},
   "outputs": [
    {
     "data": {
      "text/plain": [
       "([function: function (1, 1),\n",
       "  <spaces>:   (1, 9),\n",
       "  <id>: fib (1, 10),\n",
       "  (: ( (1, 13),\n",
       "  <id>: n (1, 14),\n",
       "  :: : (1, 15),\n",
       "  <spaces>:   (1, 16),\n",
       "  <id>: Number (1, 17),\n",
       "  ): ) (1, 23),\n",
       "  <spaces>:   (1, 24),\n",
       "  =>: => (1, 25),\n",
       "  <spaces>:   (1, 27),\n",
       "  <id>: fib (1, 28),\n",
       "  (: ( (1, 31),\n",
       "  <id>: n (1, 32),\n",
       "  -: - (1, 33),\n",
       "  <number>: 1 (1, 34),\n",
       "  ): ) (1, 35),\n",
       "  <spaces>:   (1, 36),\n",
       "  +: + (1, 37),\n",
       "  <spaces>:   (1, 38),\n",
       "  <id>: fib (1, 39),\n",
       "  (: ( (1, 42),\n",
       "  <id>: n (1, 43),\n",
       "  -: - (1, 44),\n",
       "  <number>: 2 (1, 45),\n",
       "  ): ) (1, 46),\n",
       "  ;: ; (1, 47),\n",
       "  <spaces>:   (1, 48),\n",
       "  let: let (1, 49),\n",
       "  <spaces>:   (1, 52),\n",
       "  <id>: a (1, 53),\n",
       "  =: = (1, 54),\n",
       "  <number>: 5 (1, 55),\n",
       "  <spaces>:   (1, 56),\n",
       "  in: in (1, 57),\n",
       "  <spaces>:   (1, 59),\n",
       "  <id>: fib (1, 60),\n",
       "  (: ( (1, 63),\n",
       "  <id>: a (1, 64),\n",
       "  ): ) (1, 65),\n",
       "  ;: ; (1, 66),\n",
       "  $: $ (2, 0)],\n",
       " [])"
      ]
     },
     "execution_count": 3,
     "metadata": {},
     "output_type": "execute_result"
    }
   ],
   "source": [
    "tokens = lexer(\"function fib(n: Number) => fib(n-1) + fib(n-2); let a=5 in fib(a);\")\n",
    "\n",
    "tokens"
   ]
  },
  {
   "cell_type": "code",
   "execution_count": 4,
   "metadata": {},
   "outputs": [],
   "source": [
    "derivation, operations = parser([t.token_type for t in tokens[0] if t.token_type.Name != \"<spaces>\"])"
   ]
  },
  {
   "cell_type": "code",
   "execution_count": 5,
   "metadata": {},
   "outputs": [
    {
     "name": "stdout",
     "output_type": "stream",
     "text": [
      "=: = (1, 54)\n"
     ]
    },
    {
     "ename": "AssertionError",
     "evalue": "",
     "output_type": "error",
     "traceback": [
      "\u001b[1;31m---------------------------------------------------------------------------\u001b[0m",
      "\u001b[1;31mAssertionError\u001b[0m                            Traceback (most recent call last)",
      "Cell \u001b[1;32mIn[5], line 4\u001b[0m\n\u001b[0;32m      1\u001b[0m \u001b[38;5;28;01mfrom\u001b[39;00m \u001b[38;5;21;01msrc\u001b[39;00m\u001b[38;5;21;01m.\u001b[39;00m\u001b[38;5;21;01mevaluation\u001b[39;00m \u001b[38;5;28;01mimport\u001b[39;00m evaluate_reverse_parse\n\u001b[0;32m      2\u001b[0m \u001b[38;5;28;01mfrom\u001b[39;00m \u001b[38;5;21;01msrc\u001b[39;00m\u001b[38;5;21;01m.\u001b[39;00m\u001b[38;5;21;01msemantics\u001b[39;00m\u001b[38;5;21;01m.\u001b[39;00m\u001b[38;5;21;01mformat_visitor\u001b[39;00m \u001b[38;5;28;01mimport\u001b[39;00m FormatVisitor\n\u001b[1;32m----> 4\u001b[0m ast \u001b[38;5;241m=\u001b[39m \u001b[43mevaluate_reverse_parse\u001b[49m\u001b[43m(\u001b[49m\u001b[43mderivation\u001b[49m\u001b[43m,\u001b[49m\u001b[43m \u001b[49m\u001b[43moperations\u001b[49m\u001b[43m,\u001b[49m\u001b[43m \u001b[49m\u001b[43mtokens\u001b[49m\u001b[43m[\u001b[49m\u001b[38;5;241;43m0\u001b[39;49m\u001b[43m]\u001b[49m\u001b[43m)\u001b[49m\n\u001b[0;32m      5\u001b[0m formatter \u001b[38;5;241m=\u001b[39m FormatVisitor()\n\u001b[0;32m      7\u001b[0m \u001b[38;5;28mprint\u001b[39m(formatter\u001b[38;5;241m.\u001b[39mvisit(ast))\n",
      "File \u001b[1;32md:\\SVD\\compiler_proy\\src\\evaluation.py:37\u001b[0m, in \u001b[0;36mevaluate_reverse_parse\u001b[1;34m(right_parse, operations, tokens)\u001b[0m\n\u001b[0;32m     35\u001b[0m token \u001b[38;5;241m=\u001b[39m \u001b[38;5;28mnext\u001b[39m(tokens)\n\u001b[0;32m     36\u001b[0m \u001b[38;5;28mprint\u001b[39m(token)\n\u001b[1;32m---> 37\u001b[0m \u001b[38;5;28;01massert\u001b[39;00m \u001b[38;5;28misinstance\u001b[39m(token\u001b[38;5;241m.\u001b[39mtoken_type, EOF)\n\u001b[0;32m     38\u001b[0m \u001b[38;5;28;01mreturn\u001b[39;00m stack[\u001b[38;5;241m0\u001b[39m]\n",
      "\u001b[1;31mAssertionError\u001b[0m: "
     ]
    }
   ],
   "source": [
    "from src.evaluation import evaluate_reverse_parse\n",
    "from src.semantics.format_visitor import FormatVisitor\n",
    "\n",
    "ast = evaluate_reverse_parse(derivation, operations, [t for t in tokens[0] if t.token_type.Name != \"<spaces>\"])\n",
    "formatter = FormatVisitor()\n",
    "\n",
    "print(formatter.visit(ast))"
   ]
  },
  {
   "cell_type": "code",
   "execution_count": 20,
   "metadata": {},
   "outputs": [],
   "source": [
    "tokens = lexer(\"function x(n) => 89; let a=5 in x(a)**a;\")"
   ]
  },
  {
   "cell_type": "code",
   "execution_count": 21,
   "metadata": {},
   "outputs": [],
   "source": [
    "derivation, operations = parser([t.token_type for t in tokens[0] if t.token_type.Name != \"<spaces>\"])"
   ]
  },
  {
   "cell_type": "code",
   "execution_count": 22,
   "metadata": {},
   "outputs": [
    {
     "ename": "AssertionError",
     "evalue": "",
     "output_type": "error",
     "traceback": [
      "\u001b[1;31m---------------------------------------------------------------------------\u001b[0m",
      "\u001b[1;31mAssertionError\u001b[0m                            Traceback (most recent call last)",
      "Cell \u001b[1;32mIn[22], line 4\u001b[0m\n\u001b[0;32m      1\u001b[0m \u001b[38;5;28;01mfrom\u001b[39;00m \u001b[38;5;21;01msrc\u001b[39;00m\u001b[38;5;21;01m.\u001b[39;00m\u001b[38;5;21;01mevaluation\u001b[39;00m \u001b[38;5;28;01mimport\u001b[39;00m evaluate_reverse_parse\n\u001b[0;32m      2\u001b[0m \u001b[38;5;28;01mfrom\u001b[39;00m \u001b[38;5;21;01msrc\u001b[39;00m\u001b[38;5;21;01m.\u001b[39;00m\u001b[38;5;21;01msemantics\u001b[39;00m\u001b[38;5;21;01m.\u001b[39;00m\u001b[38;5;21;01mformat_visitor\u001b[39;00m \u001b[38;5;28;01mimport\u001b[39;00m FormatVisitor\n\u001b[1;32m----> 4\u001b[0m ast \u001b[38;5;241m=\u001b[39m \u001b[43mevaluate_reverse_parse\u001b[49m\u001b[43m(\u001b[49m\u001b[43mderivation\u001b[49m\u001b[43m,\u001b[49m\u001b[43m \u001b[49m\u001b[43moperations\u001b[49m\u001b[43m,\u001b[49m\u001b[43m \u001b[49m\u001b[43mtokens\u001b[49m\u001b[43m[\u001b[49m\u001b[38;5;241;43m0\u001b[39;49m\u001b[43m]\u001b[49m\u001b[43m)\u001b[49m\n\u001b[0;32m      5\u001b[0m formatter \u001b[38;5;241m=\u001b[39m FormatVisitor()\n\u001b[0;32m      7\u001b[0m \u001b[38;5;28mprint\u001b[39m(formatter\u001b[38;5;241m.\u001b[39mvisit(ast))\n",
      "File \u001b[1;32md:\\SVD\\compiler_proy\\src\\evaluation.py:35\u001b[0m, in \u001b[0;36mevaluate_reverse_parse\u001b[1;34m(right_parse, operations, tokens)\u001b[0m\n\u001b[0;32m     32\u001b[0m         \u001b[38;5;28;01mraise\u001b[39;00m \u001b[38;5;167;01mException\u001b[39;00m(\u001b[38;5;124m'\u001b[39m\u001b[38;5;124mInvalid action!!!\u001b[39m\u001b[38;5;124m'\u001b[39m)\n\u001b[0;32m     34\u001b[0m \u001b[38;5;28;01massert\u001b[39;00m \u001b[38;5;28mlen\u001b[39m(stack) \u001b[38;5;241m==\u001b[39m \u001b[38;5;241m1\u001b[39m\n\u001b[1;32m---> 35\u001b[0m \u001b[38;5;28;01massert\u001b[39;00m \u001b[38;5;28misinstance\u001b[39m(\u001b[38;5;28mnext\u001b[39m(tokens)\u001b[38;5;241m.\u001b[39mtoken_type, EOF)\n\u001b[0;32m     36\u001b[0m \u001b[38;5;28;01mreturn\u001b[39;00m stack[\u001b[38;5;241m0\u001b[39m]\n",
      "\u001b[1;31mAssertionError\u001b[0m: "
     ]
    }
   ],
   "source": [
    "from src.evaluation import evaluate_reverse_parse\n",
    "from src.semantics.format_visitor import FormatVisitor\n",
    "\n",
    "ast = evaluate_reverse_parse(derivation, operations, tokens[0])\n",
    "formatter = FormatVisitor()\n",
    "\n",
    "print(formatter.visit(ast))"
   ]
  }
 ],
 "metadata": {
  "kernelspec": {
   "display_name": "Python 3",
   "language": "python",
   "name": "python3"
  },
  "language_info": {
   "codemirror_mode": {
    "name": "ipython",
    "version": 3
   },
   "file_extension": ".py",
   "mimetype": "text/x-python",
   "name": "python",
   "nbconvert_exporter": "python",
   "pygments_lexer": "ipython3",
   "version": "3.12.0"
  }
 },
 "nbformat": 4,
 "nbformat_minor": 2
}
