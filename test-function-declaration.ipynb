{
 "cells": [
  {
   "cell_type": "code",
   "execution_count": 1,
   "metadata": {},
   "outputs": [],
   "source": [
    "from src.lexer.hulk_lexer import HulkLexer\n",
    "\n",
    "lexer = HulkLexer()"
   ]
  },
  {
   "cell_type": "code",
   "execution_count": 2,
   "metadata": {},
   "outputs": [],
   "source": [
    "from src.hulk_grammar.hulk_grammar import G\n",
    "from src.parsing import SLR1Parser\n",
    "\n",
    "parser = SLR1Parser(G)"
   ]
  },
  {
   "cell_type": "code",
   "execution_count": 3,
   "metadata": {},
   "outputs": [
    {
     "data": {
      "text/plain": [
       "[function: function (1, 1),\n",
       " <id>: fib (1, 10),\n",
       " (: ( (1, 13),\n",
       " <id>: n (1, 14),\n",
       " :: : (1, 15),\n",
       " <id>: Number (1, 17),\n",
       " ): ) (1, 23),\n",
       " =>: => (1, 25),\n",
       " <id>: fib (1, 28),\n",
       " (: ( (1, 31),\n",
       " <id>: n (1, 32),\n",
       " -: - (1, 33),\n",
       " <number>: 1 (1, 34),\n",
       " ): ) (1, 35),\n",
       " +: + (1, 37),\n",
       " <id>: fib (1, 39),\n",
       " (: ( (1, 42),\n",
       " <id>: n (1, 43),\n",
       " -: - (1, 44),\n",
       " <number>: 2 (1, 45),\n",
       " ): ) (1, 46),\n",
       " ;: ; (1, 47),\n",
       " let: let (1, 49),\n",
       " <id>: a (1, 53),\n",
       " =: = (1, 54),\n",
       " <number>: 5 (1, 55),\n",
       " in: in (1, 57),\n",
       " <id>: fib (1, 60),\n",
       " (: ( (1, 63),\n",
       " <id>: a (1, 64),\n",
       " ): ) (1, 65),\n",
       " ;: ; (1, 66),\n",
       " $: $ (2, 0)]"
      ]
     },
     "execution_count": 3,
     "metadata": {},
     "output_type": "execute_result"
    }
   ],
   "source": [
    "tokens, errors = lexer(\"function fib(n: Number) => fib(n-1) + fib(n-2); let a=5 in fib(a);\")\n",
    "\n",
    "tokens"
   ]
  },
  {
   "cell_type": "code",
   "execution_count": 4,
   "metadata": {},
   "outputs": [],
   "source": [
    "derivation, operations = parser([t.token_type for t in tokens])"
   ]
  },
  {
   "cell_type": "code",
   "execution_count": 5,
   "metadata": {},
   "outputs": [
    {
     "name": "stdout",
     "output_type": "stream",
     "text": [
      "\\__ ProgramNode [<stat>; ... <stat> <expr>;]\n",
      "\t\\__ FuncDeclarationNode: def fib() -> <expr>\n",
      "\t\t\\__ <expr> PlusNode <expr>\n",
      "\t\t\t\\__ CallNode: fib(<expr>, ..., <expr>)\n",
      "\t\t\t\t\\__ <expr> MinusNode <expr>\n",
      "\t\t\t\t\t\\__ VariableNode: n\n",
      "\t\t\t\t\t\\__ ConstantNumNode: 1\n",
      "\t\t\t\\__ CallNode: fib(<expr>, ..., <expr>)\n",
      "\t\t\t\t\\__ <expr> MinusNode <expr>\n",
      "\t\t\t\t\t\\__ VariableNode: n\n",
      "\t\t\t\t\t\\__ ConstantNumNode: 2\n",
      "\t\\__ LetInNode: let [<var>, ..., <var>] in <expr>\n",
      "\t\t\\__ VarDeclarationNode: a = <expr>\n",
      "\t\t\t\\__ ConstantNumNode: 5\n",
      "\t\t\\__ CallNode: fib(<expr>, ..., <expr>)\n",
      "\t\t\t\\__ VariableNode: a\n"
     ]
    }
   ],
   "source": [
    "from src.evaluation import evaluate_reverse_parse\n",
    "from src.semantics.format_visitor import FormatVisitor\n",
    "\n",
    "ast = evaluate_reverse_parse(derivation, operations, tokens)\n",
    "formatter = FormatVisitor()\n",
    "\n",
    "print(formatter.visit(ast))"
   ]
  },
  {
   "cell_type": "code",
   "execution_count": 7,
   "metadata": {},
   "outputs": [],
   "source": [
    "tokens, errors = lexer(\"function x(n) => 89; let a=5 in x(a)**a;\")"
   ]
  },
  {
   "cell_type": "code",
   "execution_count": 8,
   "metadata": {},
   "outputs": [],
   "source": [
    "derivation, operations = parser([t.token_type for t in tokens])"
   ]
  },
  {
   "cell_type": "code",
   "execution_count": 9,
   "metadata": {},
   "outputs": [
    {
     "name": "stdout",
     "output_type": "stream",
     "text": [
      "\\__ ProgramNode [<stat>; ... <stat> <expr>;]\n",
      "\t\\__ FuncDeclarationNode: def x() -> <expr>\n",
      "\t\t\\__ ConstantNumNode: 89\n",
      "\t\\__ LetInNode: let [<var>, ..., <var>] in <expr>\n",
      "\t\t\\__ VarDeclarationNode: a = <expr>\n",
      "\t\t\t\\__ ConstantNumNode: 5\n",
      "\t\t\\__ <expr> PowNode <expr>\n",
      "\t\t\t\\__ CallNode: x(<expr>, ..., <expr>)\n",
      "\t\t\t\t\\__ VariableNode: a\n",
      "\t\t\t\\__ VariableNode: a\n"
     ]
    }
   ],
   "source": [
    "from src.evaluation import evaluate_reverse_parse\n",
    "from src.semantics.format_visitor import FormatVisitor\n",
    "\n",
    "ast = evaluate_reverse_parse(derivation, operations, tokens)\n",
    "formatter = FormatVisitor()\n",
    "\n",
    "print(formatter.visit(ast))"
   ]
  }
 ],
 "metadata": {
  "kernelspec": {
   "display_name": "Python 3",
   "language": "python",
   "name": "python3"
  },
  "language_info": {
   "codemirror_mode": {
    "name": "ipython",
    "version": 3
   },
   "file_extension": ".py",
   "mimetype": "text/x-python",
   "name": "python",
   "nbconvert_exporter": "python",
   "pygments_lexer": "ipython3",
   "version": "3.12.0"
  }
 },
 "nbformat": 4,
 "nbformat_minor": 2
}
