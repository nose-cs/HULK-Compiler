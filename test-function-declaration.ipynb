{
 "cells": [
  {
   "cell_type": "code",
   "execution_count": null,
   "metadata": {},
   "outputs": [],
   "source": [
    "from src.lexer.hulk_lexer import HulkLexer\n",
    "\n",
    "lexer = HulkLexer()"
   ]
  },
  {
   "cell_type": "code",
   "execution_count": null,
   "metadata": {},
   "outputs": [],
   "source": [
    "from src.hulk_grammar.hulk_grammar import G\n",
    "from src.parsing import SLR1Parser\n",
    "\n",
    "parser = SLR1Parser(G)"
   ]
  },
  {
   "cell_type": "code",
   "execution_count": null,
   "metadata": {},
   "outputs": [],
   "source": [
    "tokens = lexer(\"function fib(n: Number) => fib(n-1) + fib(n-2); let a=5 in fib(a)\")\n",
    "\n",
    "tokens"
   ]
  },
  {
   "cell_type": "code",
   "execution_count": null,
   "metadata": {},
   "outputs": [],
   "source": [
    "derivation, operations = parser([t.token_type for t in tokens])"
   ]
  },
  {
   "cell_type": "code",
   "execution_count": null,
   "metadata": {},
   "outputs": [],
   "source": [
    "from src.evaluation import evaluate_reverse_parse\n",
    "from src.semantics.format_visitor import FormatVisitor\n",
    "\n",
    "ast = evaluate_reverse_parse(derivation, operations, tokens)\n",
    "formatter = FormatVisitor()\n",
    "\n",
    "print(formatter.visit(ast))"
   ]
  },
  {
   "cell_type": "code",
   "execution_count": null,
   "metadata": {},
   "outputs": [],
   "source": [
    "tokens = lexer(\"function x(n) => 89; let a=5 in x(a)**a\")"
   ]
  },
  {
   "cell_type": "code",
   "execution_count": null,
   "metadata": {},
   "outputs": [],
   "source": [
    "derivation, operations = parser([t.token_type for t in tokens])"
   ]
  },
  {
   "cell_type": "code",
   "execution_count": null,
   "metadata": {},
   "outputs": [],
   "source": [
    "from src.evaluation import evaluate_reverse_parse\n",
    "from src.semantics.format_visitor import FormatVisitor\n",
    "\n",
    "ast = evaluate_reverse_parse(derivation, operations, tokens)\n",
    "formatter = FormatVisitor()\n",
    "\n",
    "print(formatter.visit(ast))"
   ]
  },
  {
   "cell_type": "code",
   "execution_count": null,
   "metadata": {},
   "outputs": [],
   "source": [
    "tokens = lexer(\"function x() => 89; let a=5 in x()**a\")"
   ]
  },
  {
   "cell_type": "code",
   "execution_count": null,
   "metadata": {},
   "outputs": [],
   "source": [
    "derivation, operations = parser([t.token_type for t in tokens])"
   ]
  },
  {
   "cell_type": "code",
   "execution_count": null,
   "metadata": {},
   "outputs": [],
   "source": [
    "from src.evaluation import evaluate_reverse_parse\n",
    "from src.semantics.format_visitor import FormatVisitor\n",
    "\n",
    "ast = evaluate_reverse_parse(derivation, operations, tokens)\n",
    "formatter = FormatVisitor()\n",
    "\n",
    "print(formatter.visit(ast))"
   ]
  }
 ],
 "metadata": {
  "kernelspec": {
   "display_name": "Python 3",
   "language": "python",
   "name": "python3"
  },
  "language_info": {
   "codemirror_mode": {
    "name": "ipython",
    "version": 3
   },
   "file_extension": ".py",
   "mimetype": "text/x-python",
   "name": "python",
   "nbconvert_exporter": "python",
   "pygments_lexer": "ipython3",
   "version": "3.10.11"
  }
 },
 "nbformat": 4,
 "nbformat_minor": 2
}
