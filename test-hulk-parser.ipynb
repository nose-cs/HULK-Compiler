{
 "cells": [
  {
   "cell_type": "code",
   "execution_count": 7,
   "metadata": {},
   "outputs": [],
   "source": [
    "from src.Hulk_Grammar.hulk_grammar import G\n",
    "from src.parsing import SLR1Parser\n",
    "\n",
    "parser = SLR1Parser(G)"
   ]
  },
  {
   "cell_type": "code",
   "execution_count": 8,
   "metadata": {},
   "outputs": [],
   "source": [
    "import src.Hulk_Grammar.hulk_grammar as hulk\n",
    "from src.utils import Token\n",
    "from src.regex.evaluation import evaluate_reverse_parse\n",
    "\n",
    "tokens = [Token('1', hulk.number), Token('+', hulk.plus), Token('2', hulk.number), Token('==', hulk.eq), Token('3', hulk.number), Token('+',hulk.plus), Token('4', hulk.number), Token('$', G.EOF)]\n",
    "\n",
    "derivation, operations = parser([t.token_type for t in tokens])"
   ]
  },
  {
   "cell_type": "code",
   "execution_count": 9,
   "metadata": {},
   "outputs": [
    {
     "name": "stdout",
     "output_type": "stream",
     "text": [
      "\\__ProgramNode [<stat>; ... <stat>;]\n",
      "\n",
      "\t\\__EqualNode: <expr> == <expr>\n",
      "\t\t\\__PlusNode: <expr> + <expr>\n",
      "\t\t\t\\__ ConstantNumNode: 1\n",
      "\t\t\t\\__ ConstantNumNode: 2\n",
      "\t\t\\__PlusNode: <expr> + <expr>\n",
      "\t\t\t\\__ ConstantNumNode: 3\n",
      "\t\t\t\\__ ConstantNumNode: 4\n"
     ]
    }
   ],
   "source": [
    "from src.semantics.format_visitor import FormatVisitor\n",
    "\n",
    "ast = evaluate_reverse_parse(derivation, operations, tokens)\n",
    "formatter = FormatVisitor()\n",
    "\n",
    "print(formatter.visit(ast))"
   ]
  }
 ],
 "metadata": {
  "kernelspec": {
   "display_name": "Python 3",
   "language": "python",
   "name": "python3"
  },
  "language_info": {
   "codemirror_mode": {
    "name": "ipython",
    "version": 3
   },
   "file_extension": ".py",
   "mimetype": "text/x-python",
   "name": "python",
   "nbconvert_exporter": "python",
   "pygments_lexer": "ipython3",
   "version": "3.10.11"
  }
 },
 "nbformat": 4,
 "nbformat_minor": 2
}
