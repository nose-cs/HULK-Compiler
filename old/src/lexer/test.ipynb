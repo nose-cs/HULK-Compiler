{
 "cells": [
  {
   "cell_type": "code",
   "execution_count": 1,
   "metadata": {},
   "outputs": [],
   "source": [
    "import sys\n",
    "sys.path.insert(1, '..')"
   ]
  },
  {
   "cell_type": "code",
   "execution_count": 3,
   "metadata": {},
   "outputs": [],
   "source": [
    "from build_nfa import BuildNFA\n",
    "from automaton.dfa import DFA"
   ]
  },
  {
   "cell_type": "code",
   "execution_count": 12,
   "metadata": {},
   "outputs": [
    {
     "name": "stdout",
     "output_type": "stream",
     "text": [
      "6\n"
     ]
    }
   ],
   "source": [
    "build = BuildNFA()\n",
    "\n",
    "nfa_a = build.build_basic_nfa('a')\n",
    "nfa_b = build.build_basic_nfa('b')\n",
    "nfa_c = build.build_basic_nfa('c')\n",
    "\n",
    "nfa = build.join_nfas(build.join_nfas(build.build_basic_nfa('a'), nfa_b), nfa_c)\n",
    "nfa = build.kleene_closure(nfa)\n",
    "\n",
    "# (ab)(a|b|c)*\n",
    "nfa = build.concatenate_nfas(build.concatenate_nfas(nfa_a, build.build_basic_nfa('b')), nfa)\n",
    "\n",
    "dfa, states = DFA.fromNFA(nfa)\n",
    "\n",
    "print(len(states))\n",
    "\n",
    "text = \"abhcjbncnnaabbbccadaabc\""
   ]
  },
  {
   "cell_type": "code",
   "execution_count": 13,
   "metadata": {},
   "outputs": [
    {
     "data": {
      "text/plain": [
       "['ab', 'abbbcca', 'abc']"
      ]
     },
     "execution_count": 13,
     "metadata": {},
     "output_type": "execute_result"
    }
   ],
   "source": [
    "nfa.execute(text)"
   ]
  },
  {
   "cell_type": "code",
   "execution_count": 14,
   "metadata": {},
   "outputs": [
    {
     "data": {
      "text/plain": [
       "['ab', 'abbbcca', 'abc']"
      ]
     },
     "execution_count": 14,
     "metadata": {},
     "output_type": "execute_result"
    }
   ],
   "source": [
    "dfa.execute(text)"
   ]
  },
  {
   "cell_type": "code",
   "execution_count": 1,
   "metadata": {},
   "outputs": [
    {
     "data": {
      "text/plain": [
       "['a$ABZ', 'aC', 'a$', 'a$S']"
      ]
     },
     "execution_count": 1,
     "metadata": {},
     "output_type": "execute_result"
    }
   ],
   "source": [
    "from regex import Regex\n",
    "\n",
    "regex = Regex(\"(a|\\\\$|a\\\\$)[A..Z]*\")\n",
    "regex.execute(\"ba$ABZaCa$sSa$S\")"
   ]
  }
 ],
 "metadata": {
  "kernelspec": {
   "display_name": ".venv",
   "language": "python",
   "name": "python3"
  },
  "language_info": {
   "codemirror_mode": {
    "name": "ipython",
    "version": 3
   },
   "file_extension": ".py",
   "mimetype": "text/x-python",
   "name": "python",
   "nbconvert_exporter": "python",
   "pygments_lexer": "ipython3",
   "version": "3.12.0"
  }
 },
 "nbformat": 4,
 "nbformat_minor": 2
}
