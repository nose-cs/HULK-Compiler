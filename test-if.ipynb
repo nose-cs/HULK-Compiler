{
 "cells": [
  {
   "cell_type": "code",
   "execution_count": 1,
   "metadata": {},
   "outputs": [],
   "source": [
    "from src.lexer.hulk_lexer import HulkLexer\n",
    "\n",
    "lexer = HulkLexer()"
   ]
  },
  {
   "cell_type": "code",
   "execution_count": 2,
   "metadata": {},
   "outputs": [],
   "source": [
    "from src.hulk_grammar.hulk_grammar import G\n",
    "from src.parsing import LR1Parser\n",
    "\n",
    "parser = LR1Parser(G)"
   ]
  },
  {
   "cell_type": "code",
   "execution_count": 3,
   "metadata": {},
   "outputs": [],
   "source": [
    "tokens, errors = lexer(\"type Point { x = 4; y = 5; getX() => self.x; geyY() => self.y; setX(x) => self.x := x; } 5;\")\n",
    "# tokens, errors"
   ]
  },
  {
   "cell_type": "code",
   "execution_count": 4,
   "metadata": {},
   "outputs": [],
   "source": [
    "derivation, operations = parser([t.token_type for t in tokens])"
   ]
  },
  {
   "cell_type": "code",
   "execution_count": 5,
   "metadata": {},
   "outputs": [
    {
     "name": "stdout",
     "output_type": "stream",
     "text": [
      "\\__ ProgramNode [<stat>; ... <stat> <expr>;]\n",
      "\t\\__ TypeDeclarationNode: type Point() -> <body>\n",
      "\t\t\\__ AttributeStatementNode: x = <expr>\n",
      "\t\t\t\\__ ConstantNumNode: 4\n",
      "\t\t\\__ AttributeStatementNode: y = <expr>\n",
      "\t\t\t\\__ ConstantNumNode: 5\n",
      "\t\t\\__ MethodDeclarationNode: getX() -> <expr>\n",
      "\t\t\t\\__ AttributeCallNode: <src.hulk_grammar.hulk_ast_nodes.VariableNode object at 0x000001F7C7B7D3F0>.x\n",
      "\t\t\t\t\\__ VariableNode: self\n",
      "\t\t\\__ MethodDeclarationNode: geyY() -> <expr>\n",
      "\t\t\t\\__ AttributeCallNode: <src.hulk_grammar.hulk_ast_nodes.VariableNode object at 0x000001F7C7B7DBA0>.y\n",
      "\t\t\t\t\\__ VariableNode: self\n",
      "\t\t\\__ MethodDeclarationNode: setX() -> <expr>\n",
      "\t\t\t\\__ DestructiveAssignmentNode: <src.hulk_grammar.hulk_ast_nodes.AttributeCallNode object at 0x000001F7C7B7D360> := <expr>\n",
      "\t\t\t\t\\__ VariableNode: x\n",
      "\t\\__ ConstantNumNode: 5\n"
     ]
    }
   ],
   "source": [
    "from src.evaluation import evaluate_reverse_parse\n",
    "from src.semantics.format_visitor import FormatVisitor\n",
    "\n",
    "ast = evaluate_reverse_parse(derivation, operations, tokens)\n",
    "formatter = FormatVisitor()\n",
    "\n",
    "print(formatter.visit(ast))"
   ]
  }
 ],
 "metadata": {
  "kernelspec": {
   "display_name": "Python 3",
   "language": "python",
   "name": "python3"
  },
  "language_info": {
   "codemirror_mode": {
    "name": "ipython",
    "version": 3
   },
   "file_extension": ".py",
   "mimetype": "text/x-python",
   "name": "python",
   "nbconvert_exporter": "python",
   "pygments_lexer": "ipython3",
   "version": "3.10.11"
  }
 },
 "nbformat": 4,
 "nbformat_minor": 2
}
