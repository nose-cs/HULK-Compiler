{
 "cells": [
  {
   "cell_type": "code",
   "execution_count": 1,
   "metadata": {},
   "outputs": [],
   "source": [
    "from build_nfa import BuildNFA\n",
    "from dfa import DFA"
   ]
  },
  {
   "cell_type": "code",
   "execution_count": 26,
   "metadata": {},
   "outputs": [],
   "source": [
    "build = BuildNFA()\n",
    "\n",
    "nfa_a = build.build_basic_nfa('a')\n",
    "nfa_b = build.build_basic_nfa('b')\n",
    "nfa_c = build.build_basic_nfa('c')\n",
    "\n",
    "nfa = build.join_nfas(build.join_nfas(build.build_basic_nfa('a'), nfa_b), nfa_c)\n",
    "nfa = build.kleene_closure(nfa)\n",
    "\n",
    "# (ab)(a|b|c)*\n",
    "nfa = build.concatenate_nfas(build.concatenate_nfas(nfa_a, build.build_basic_nfa('b')), nfa)\n",
    "\n",
    "dfa = DFA.fromNFA(nfa)\n",
    "\n",
    "text = \"ahcjbncnnaabbbccadaabc\""
   ]
  },
  {
   "cell_type": "code",
   "execution_count": 27,
   "metadata": {},
   "outputs": [
    {
     "data": {
      "text/plain": [
       "['abbbcca', 'abc']"
      ]
     },
     "execution_count": 27,
     "metadata": {},
     "output_type": "execute_result"
    }
   ],
   "source": [
    "nfa.execute(text)"
   ]
  },
  {
   "cell_type": "code",
   "execution_count": 28,
   "metadata": {},
   "outputs": [
    {
     "data": {
      "text/plain": [
       "['abbbcca', 'abc']"
      ]
     },
     "execution_count": 28,
     "metadata": {},
     "output_type": "execute_result"
    }
   ],
   "source": [
    "dfa.execute(text)"
   ]
  }
 ],
 "metadata": {
  "kernelspec": {
   "display_name": ".venv",
   "language": "python",
   "name": "python3"
  },
  "language_info": {
   "codemirror_mode": {
    "name": "ipython",
    "version": 3
   },
   "file_extension": ".py",
   "mimetype": "text/x-python",
   "name": "python",
   "nbconvert_exporter": "python",
   "pygments_lexer": "ipython3",
   "version": "3.9.7"
  }
 },
 "nbformat": 4,
 "nbformat_minor": 2
}
