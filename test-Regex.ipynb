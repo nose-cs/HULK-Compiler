{
 "cells": [
  {
   "cell_type": "code",
   "execution_count": 1,
   "metadata": {},
   "outputs": [],
   "source": [
    "from src.lexer.hulk_lexer import HulkLexer\n",
    "\n",
    "lexer = HulkLexer()"
   ]
  },
  {
   "cell_type": "code",
   "execution_count": 2,
   "metadata": {},
   "outputs": [
    {
     "data": {
      "text/plain": [
       "([function: function (1, 1),\n",
       "  <id>: arbol (1, 10),\n",
       "  (: ( (1, 15),\n",
       "  <id>: carro (1, 16),\n",
       "  ,: , (1, 21),\n",
       "  <id>: perro (1, 23),\n",
       "  ): ) (1, 28),\n",
       "  =>: => (1, 30),\n",
       "  <string>: \"casa\" (1, 33),\n",
       "  +: + (1, 40),\n",
       "  <id>: carro (1, 42),\n",
       "  +: + (1, 48),\n",
       "  <id>: perro (1, 50),\n",
       "  ;: ; (1, 55),\n",
       "  if: if (1, 57),\n",
       "  (: ( (1, 59),\n",
       "  <id>: arbol (1, 60),\n",
       "  (: ( (1, 65),\n",
       "  <string>: \"mustang\" (1, 66),\n",
       "  ,: , (1, 75),\n",
       "  <string>: \"chiuaua\" (1, 77),\n",
       "  ): ) (1, 86),\n",
       "  ): ) (1, 87),\n",
       "  <bool>: true (1, 89),\n",
       "  else: else (1, 94),\n",
       "  <bool>: false (1, 99),\n",
       "  $: $ (2, 0)],\n",
       " [])"
      ]
     },
     "execution_count": 2,
     "metadata": {},
     "output_type": "execute_result"
    }
   ],
   "source": [
    "lexer('function arbol(carro, perro) => \\\"casa\\\" + carro + perro; if(arbol(\"mustang\", \"chiuaua\")) true else false')"
   ]
  },
  {
   "cell_type": "code",
   "execution_count": 3,
   "metadata": {},
   "outputs": [
    {
     "data": {
      "text/plain": [
       "([<number>: 40.8754 (1, 1),\n",
       "  ,: , (1, 8),\n",
       "  <number>: 5670 (1, 10),\n",
       "  ,: , (1, 14),\n",
       "  -: - (1, 16),\n",
       "  <number>: 69780 (1, 17),\n",
       "  ,: , (1, 22),\n",
       "  <number>: 0 (1, 24),\n",
       "  ,: , (1, 25),\n",
       "  <number>: 0.89983 (1, 27),\n",
       "  ,: , (1, 34),\n",
       "  <number>: 0.00 (1, 36),\n",
       "  $: $ (2, 0)],\n",
       " [])"
      ]
     },
     "execution_count": 3,
     "metadata": {},
     "output_type": "execute_result"
    }
   ],
   "source": [
    "lexer('40.8754, 5670, -69780, 0, 0.89983, 0.00')"
   ]
  }
 ],
 "metadata": {
  "kernelspec": {
   "display_name": "Python 3",
   "language": "python",
   "name": "python3"
  },
  "language_info": {
   "codemirror_mode": {
    "name": "ipython",
    "version": 3
   },
   "file_extension": ".py",
   "mimetype": "text/x-python",
   "name": "python",
   "nbconvert_exporter": "python",
   "pygments_lexer": "ipython3",
   "version": "3.12.0"
  }
 },
 "nbformat": 4,
 "nbformat_minor": 2
}
