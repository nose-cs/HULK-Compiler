{
 "cells": [
  {
   "cell_type": "code",
   "execution_count": 2,
   "metadata": {},
   "outputs": [
    {
     "data": {
      "text/plain": [
       "[<type>: def,\n",
       " <id>: arbol,\n",
       " (: (,\n",
       " <id>: carro,\n",
       " ,: ,,\n",
       " <id>: perro,\n",
       " ): ),\n",
       " =>: =>,\n",
       " <string>: \"casa\",\n",
       " +: +,\n",
       " <id>: carro,\n",
       " +: +,\n",
       " <id>: perro]"
      ]
     },
     "execution_count": 2,
     "metadata": {},
     "output_type": "execute_result"
    }
   ],
   "source": [
    "from src.lexer.hulk_lexer import Hulk_Lexer\n",
    "\n",
    "lexer = Hulk_Lexer()\n",
    "\n",
    "lexer.get_tokens(\"def arbol(carro, perro) => \\\"casa\\\" + carro + perro\")"
   ]
  }
 ],
 "metadata": {
  "kernelspec": {
   "display_name": "Python 3",
   "language": "python",
   "name": "python3"
  },
  "language_info": {
   "codemirror_mode": {
    "name": "ipython",
    "version": 3
   },
   "file_extension": ".py",
   "mimetype": "text/x-python",
   "name": "python",
   "nbconvert_exporter": "python",
   "pygments_lexer": "ipython3",
   "version": "3.12.0"
  }
 },
 "nbformat": 4,
 "nbformat_minor": 2
}
