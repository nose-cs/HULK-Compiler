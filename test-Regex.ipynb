{
 "cells": [
  {
   "cell_type": "code",
   "execution_count": 1,
   "metadata": {},
   "outputs": [],
   "source": [
    "from src.lexer.hulk_lexer import HulkLexer\n",
    "\n",
    "lexer = HulkLexer()\n",
    "\n",
    "dfa = lexer.automaton.to_deterministic()"
   ]
  },
  {
   "cell_type": "code",
   "execution_count": 15,
   "metadata": {},
   "outputs": [],
   "source": [
    "lexer.automaton = dfa"
   ]
  },
  {
   "cell_type": "code",
   "execution_count": 23,
   "metadata": {},
   "outputs": [
    {
     "data": {
      "text/plain": [
       "[function: function,\n",
       " <spaces>:  ,\n",
       " <id>: arbol,\n",
       " (: (,\n",
       " <id>: carro,\n",
       " ,: ,,\n",
       " <spaces>:  ,\n",
       " <id>: perro,\n",
       " ): ),\n",
       " <spaces>:  ,\n",
       " =>: =>,\n",
       " <spaces>:  ,\n",
       " <string>: \"casa\",\n",
       " <spaces>:  ,\n",
       " +: +,\n",
       " <spaces>:  ,\n",
       " <id>: carro,\n",
       " <spaces>:  ,\n",
       " +: +,\n",
       " <spaces>:  ,\n",
       " <id>: perro,\n",
       " ;: ;,\n",
       " <spaces>:  ,\n",
       " if: if,\n",
       " (: (,\n",
       " <id>: arbol,\n",
       " (: (,\n",
       " <string>: \"mustang\",\n",
       " ,: ,,\n",
       " <spaces>:  ,\n",
       " <string>: \"chiuaua\",\n",
       " ): ),\n",
       " ): ),\n",
       " <spaces>:  ,\n",
       " <bool>: true,\n",
       " <spaces>:  ,\n",
       " else: else,\n",
       " <spaces>:  ,\n",
       " <bool>: false,\n",
       " $: $]"
      ]
     },
     "execution_count": 23,
     "metadata": {},
     "output_type": "execute_result"
    }
   ],
   "source": [
    "lexer('function arbol(carro, perro) => \\\"casa\\\" + carro + perro; if(arbol(\"mustang\", \"chiuaua\")) true else false')"
   ]
  },
  {
   "cell_type": "code",
   "execution_count": 24,
   "metadata": {},
   "outputs": [
    {
     "data": {
      "text/plain": [
       "[<number>: 40.8754,\n",
       " ,: ,,\n",
       " <spaces>:  ,\n",
       " <number>: 5670,\n",
       " ,: ,,\n",
       " <spaces>:  ,\n",
       " -: -,\n",
       " <number>: 69780,\n",
       " ,: ,,\n",
       " <spaces>:  ,\n",
       " <number>: 0,\n",
       " ,: ,,\n",
       " <spaces>:  ,\n",
       " <number>: 0.89983,\n",
       " ,: ,,\n",
       " <spaces>:  ,\n",
       " <number>: 0.00,\n",
       " $: $]"
      ]
     },
     "execution_count": 24,
     "metadata": {},
     "output_type": "execute_result"
    }
   ],
   "source": [
    "lexer('40.8754, 5670, -69780, 0, 0.89983, 0.00')"
   ]
  },
  {
   "cell_type": "code",
   "execution_count": 25,
   "metadata": {},
   "outputs": [],
   "source": [
    "from src.lexer.hulk_lexer import HulkLexer\n",
    "\n",
    "lexer2 = HulkLexer()"
   ]
  },
  {
   "cell_type": "code",
   "execution_count": 28,
   "metadata": {},
   "outputs": [
    {
     "data": {
      "text/plain": [
       "[function: function,\n",
       " <spaces>:  ,\n",
       " <id>: arbol,\n",
       " (: (,\n",
       " <id>: carro,\n",
       " ,: ,,\n",
       " <spaces>:  ,\n",
       " <id>: perro,\n",
       " ): ),\n",
       " <spaces>:  ,\n",
       " =>: =>,\n",
       " <spaces>:  ,\n",
       " <string>: \"casa\",\n",
       " <spaces>:  ,\n",
       " +: +,\n",
       " <spaces>:  ,\n",
       " <id>: carro,\n",
       " <spaces>:  ,\n",
       " +: +,\n",
       " <spaces>:  ,\n",
       " <id>: perro,\n",
       " ;: ;,\n",
       " <spaces>:  ,\n",
       " if: if,\n",
       " (: (,\n",
       " <id>: arbol,\n",
       " (: (,\n",
       " <string>: \"mustang\",\n",
       " ,: ,,\n",
       " <spaces>:  ,\n",
       " <string>: \"chiuaua\",\n",
       " ): ),\n",
       " ): ),\n",
       " <spaces>:  ,\n",
       " <bool>: true,\n",
       " <spaces>:  ,\n",
       " else: else,\n",
       " <spaces>:  ,\n",
       " <bool>: false,\n",
       " $: $]"
      ]
     },
     "execution_count": 28,
     "metadata": {},
     "output_type": "execute_result"
    }
   ],
   "source": [
    "lexer2('function arbol(carro, perro) => \\\"casa\\\" + carro + perro; if(arbol(\"mustang\", \"chiuaua\")) true else false')"
   ]
  },
  {
   "cell_type": "code",
   "execution_count": null,
   "metadata": {},
   "outputs": [],
   "source": [
    "from src.pycompiler import Terminal\n",
    "from src.regex.regex_grammar import getRegexGrammar\n",
    "\n",
    "G = getRegexGrammar()\n",
    "\n",
    "Terminal(\"r\", G).Name == Terminal(\"r\", G).Name"
   ]
  }
 ],
 "metadata": {
  "kernelspec": {
   "display_name": "Python 3",
   "language": "python",
   "name": "python3"
  },
  "language_info": {
   "codemirror_mode": {
    "name": "ipython",
    "version": 3
   },
   "file_extension": ".py",
   "mimetype": "text/x-python",
   "name": "python",
   "nbconvert_exporter": "python",
   "pygments_lexer": "ipython3",
   "version": "3.12.0"
  }
 },
 "nbformat": 4,
 "nbformat_minor": 2
}
