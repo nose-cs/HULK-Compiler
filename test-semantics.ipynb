{
 "cells": [
  {
   "cell_type": "code",
   "execution_count": null,
   "metadata": {},
   "outputs": [],
   "source": [
    "from src.lexer.hulk_lexer import HulkLexer\n",
    "\n",
    "lexer = HulkLexer()"
   ]
  },
  {
   "cell_type": "code",
   "execution_count": null,
   "metadata": {},
   "outputs": [],
   "source": [
    "from src.hulk_grammar.hulk_grammar import G\n",
    "from src.parsing import LR1Parser\n",
    "\n",
    "parser = LR1Parser(G)"
   ]
  },
  {
   "cell_type": "code",
   "execution_count": null,
   "metadata": {},
   "outputs": [],
   "source": [
    "tokens, errors = lexer('''\n",
    "    type A(x: A, y: G) {\n",
    "        suma ( a : Number , b : B ) : Number {\n",
    "            a + b ;\n",
    "        }\n",
    "        b : Number =89;\n",
    "        c : C =884;\n",
    "    }\n",
    "\n",
    "    protocol G {\n",
    "        suma ( c : Number , d : B ) : Number;\n",
    "    }\n",
    "\n",
    "    protocol H extends G {\n",
    "        resta ( c : Number , d : B ) : Number;\n",
    "    }\n",
    "\n",
    "    type B inherits A {\n",
    "        c : A =59;\n",
    "        f ( d : Number , a : A ) : Number {\n",
    "            c ;\n",
    "        }\n",
    "        z : Number =9598;\n",
    "    }\n",
    "\n",
    "    type C(a, b) {\n",
    "        suma ( a : Number , b : B ) : Number {\n",
    "            a + b ;\n",
    "        }\n",
    "    }\n",
    "\n",
    "    type D inherits A {\n",
    "        suma ( a : Number , d : B ) : Number {\n",
    "            d ;\n",
    "        }\n",
    "    }\n",
    "\n",
    "    type E inherits A {\n",
    "        suma ( a : A , b : B ) {\n",
    "            a ;\n",
    "        }\n",
    "    }\n",
    "\n",
    "    type F inherits B {\n",
    "        f ( self : Number , a : A ) {\n",
    "            a ;\n",
    "        }\n",
    "    }\n",
    "\n",
    "    function s() {\n",
    "        let a : A= print(A) , a = 4, a= 8 in print ( a) ;\n",
    "    }  \n",
    "\n",
    "    let a : A = b in print ( a) ;\n",
    "    '''\n",
    ")\n"
   ]
  },
  {
   "cell_type": "code",
   "execution_count": null,
   "metadata": {},
   "outputs": [],
   "source": [
    "from src.evaluation import evaluate_reverse_parse\n",
    "\n",
    "derivation, operations = parser([t.token_type for t in tokens])\n",
    "ast = evaluate_reverse_parse(derivation, operations, tokens)"
   ]
  },
  {
   "cell_type": "code",
   "execution_count": null,
   "metadata": {},
   "outputs": [],
   "source": [
    "from src.semantics.semantic_analysis_pipeline import semantic_analysis_pipeline\n",
    "\n",
    "ast, errors, context, scope = semantic_analysis_pipeline(ast, debug=True)"
   ]
  }
 ],
 "metadata": {
  "kernelspec": {
   "display_name": "Python 3",
   "language": "python",
   "name": "python3"
  },
  "language_info": {
   "codemirror_mode": {
    "name": "ipython",
    "version": 3
   },
   "file_extension": ".py",
   "mimetype": "text/x-python",
   "name": "python",
   "nbconvert_exporter": "python",
   "pygments_lexer": "ipython3",
   "version": "3.11.5"
  }
 },
 "nbformat": 4,
 "nbformat_minor": 2
}
